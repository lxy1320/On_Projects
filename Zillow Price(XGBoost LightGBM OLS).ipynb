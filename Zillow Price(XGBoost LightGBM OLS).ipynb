{
 "cells": [
  {
   "cell_type": "code",
   "execution_count": 3,
   "metadata": {},
   "outputs": [],
   "source": [
    "import numpy as np\n",
    "import pandas as pd\n",
    "import xgboost as xgb\n",
    "from sklearn.preprocessing import LabelEncoder\n",
    "#import lightgbm as lgb\n",
    "#import gc\n",
    "from sklearn.linear_model import LinearRegression\n",
    "import random\n",
    "import datetime as dt"
   ]
  },
  {
   "cell_type": "code",
   "execution_count": null,
   "metadata": {},
   "outputs": [],
   "source": [
    "#Questions:\n",
    "#What is XGBoost\n",
    "#How to know outlier bounderies\n",
    "#How to determine xgboost params\n",
    "#What to do with DMatrix\n",
    "#Error Reason: image not found for lightgbm, will solve later and skip lightGBM part\n",
    "#Jupyter server down when training through xgboost\n",
    "#Difference between np.random.seed() and random.seed()\n",
    "#pd.merge"
   ]
  },
  {
   "cell_type": "code",
   "execution_count": 8,
   "metadata": {},
   "outputs": [
    {
     "name": "stdout",
     "output_type": "stream",
     "text": [
      "/Users/xiaoyingliu/Desktop/zillow\n"
     ]
    }
   ],
   "source": [
    "%pwd\n",
    "%cd '/Users/xiaoyingliu/desktop/zillow'"
   ]
  },
  {
   "cell_type": "code",
   "execution_count": 4,
   "metadata": {},
   "outputs": [
    {
     "name": "stderr",
     "output_type": "stream",
     "text": [
      "/Users/xiaoyingliu/anaconda3/lib/python3.7/site-packages/IPython/core/interactiveshell.py:3020: DtypeWarning: Columns (22,32,34,49,55) have mixed types. Specify dtype option on import or set low_memory=False.\n",
      "  interactivity=interactivity, compiler=compiler, result=result)\n"
     ]
    }
   ],
   "source": [
    "#########XGBoost\n",
    "prop=pd.read_csv('properties_2016.csv')\n"
   ]
  },
  {
   "cell_type": "code",
   "execution_count": 7,
   "metadata": {},
   "outputs": [],
   "source": [
    "train=pd.read_csv('train_2016_v2.csv')"
   ]
  },
  {
   "cell_type": "code",
   "execution_count": 5,
   "metadata": {},
   "outputs": [],
   "source": [
    "#process data for XGBoost\n",
    "for i in prop.columns:\n",
    "    prop[i]=prop[i].fillna(-1)\n",
    "    if prop[i].dtype=='object':\n",
    "        lbl=LabelEncoder()\n",
    "        lbl.fit(list(prop[i].values))\n",
    "        prop[i]=lbl.transform(list(prop[i].values))"
   ]
  },
  {
   "cell_type": "code",
   "execution_count": 8,
   "metadata": {},
   "outputs": [],
   "source": [
    "train_df=train.merge(prop,how='left',on='parcelid')\n",
    "x_train=train_df.drop(['parcelid','logerror','transactiondate'],axis=1)\n",
    "x_test=prop.drop(['parcelid'],axis=1)"
   ]
  },
  {
   "cell_type": "code",
   "execution_count": 9,
   "metadata": {},
   "outputs": [
    {
     "name": "stdout",
     "output_type": "stream",
     "text": [
      "shape train: (90275, 57)\n",
      "shape test: (2985217, 57)\n"
     ]
    }
   ],
   "source": [
    "#shape\n",
    "print('shape train: {}\\nshape test: {}'. format(x_train.shape, x_test.shape))"
   ]
  },
  {
   "cell_type": "code",
   "execution_count": 10,
   "metadata": {},
   "outputs": [],
   "source": [
    "#drop out outliers  \n",
    "#we can extract column in df python using df.ColumnName or df['ColumnName']\n",
    "train_df=train_df[train_df.logerror>-0.4]\n",
    "train_df=train_df[train_df.logerror<0.419]\n",
    "y_train=train_df['logerror'].values.astype(np.float32)\n",
    "y_mean=np.mean(y_train)"
   ]
  },
  {
   "cell_type": "code",
   "execution_count": 11,
   "metadata": {},
   "outputs": [
    {
     "name": "stdout",
     "output_type": "stream",
     "text": [
      "After removing outliers: \n",
      "shape train: (90275, 57)\n",
      "shape test: (2985217, 57)\n"
     ]
    }
   ],
   "source": [
    "print('After removing outliers: ')\n",
    "print('shape train: {}\\nshape test: {}'. format(x_train.shape, x_test.shape))      "
   ]
  },
  {
   "cell_type": "code",
   "execution_count": 12,
   "metadata": {},
   "outputs": [],
   "source": [
    "#Run XGBoost\n",
    "#set xgboost params\n",
    "xgb_params={\n",
    "    'eta':0.037,\n",
    "    'max_depth':5,\n",
    "    'subsample':0.80,\n",
    "    'objective':'reg:linear',\n",
    "    'eval_metric' :'mae',\n",
    "    'lambda':0.8,\n",
    "    'alpha':0.4,\n",
    "    'base_score':y_mean,\n",
    "    'silent':1    \n",
    "}"
   ]
  },
  {
   "cell_type": "code",
   "execution_count": 13,
   "metadata": {},
   "outputs": [],
   "source": [
    "dtrain=xgb.DMatrix(x_train,y_train)\n",
    "dtest=xgb.DMatrix(x_test)\n",
    "num_boost_rounds=250"
   ]
  },
  {
   "cell_type": "code",
   "execution_count": null,
   "metadata": {},
   "outputs": [],
   "source": [
    "#This chunk does not work since\n",
    "#train_model\n",
    "#model=xgb.train(dict(xgb_params,silent=1),dtrain,num_boost_round=num_boost_rounds)\n",
    "#predicting\n",
    "#xgb_pred1=model.predict(dtest)"
   ]
  },
  {
   "cell_type": "code",
   "execution_count": 1,
   "metadata": {},
   "outputs": [
    {
     "ename": "NameError",
     "evalue": "name 'pd' is not defined",
     "output_type": "error",
     "traceback": [
      "\u001b[0;31m---------------------------------------------------------------------------\u001b[0m",
      "\u001b[0;31mNameError\u001b[0m                                 Traceback (most recent call last)",
      "\u001b[0;32m<ipython-input-1-beb52b811c84>\u001b[0m in \u001b[0;36m<module>\u001b[0;34m\u001b[0m\n\u001b[1;32m      1\u001b[0m \u001b[0;31m#print predictions\u001b[0m\u001b[0;34m\u001b[0m\u001b[0;34m\u001b[0m\u001b[0;34m\u001b[0m\u001b[0m\n\u001b[0;32m----> 2\u001b[0;31m \u001b[0mprint\u001b[0m\u001b[0;34m(\u001b[0m\u001b[0mpd\u001b[0m\u001b[0;34m.\u001b[0m\u001b[0mDataFrame\u001b[0m\u001b[0;34m(\u001b[0m\u001b[0mxgb\u001b[0m\u001b[0;34m.\u001b[0m\u001b[0mpred1\u001b[0m\u001b[0;34m)\u001b[0m\u001b[0;34m.\u001b[0m\u001b[0mhead\u001b[0m\u001b[0;34m(\u001b[0m\u001b[0;34m)\u001b[0m\u001b[0;34m)\u001b[0m\u001b[0;34m\u001b[0m\u001b[0;34m\u001b[0m\u001b[0m\n\u001b[0m",
      "\u001b[0;31mNameError\u001b[0m: name 'pd' is not defined"
     ]
    }
   ],
   "source": [
    "#print predictions\n",
    "#print(pd.DataFrame(xgb.pred1).head())"
   ]
  },
  {
   "cell_type": "code",
   "execution_count": null,
   "metadata": {},
   "outputs": [],
   "source": [
    "#Run xgboost again using different params\n",
    "#Combine 2-time results weighted average"
   ]
  },
  {
   "cell_type": "code",
   "execution_count": null,
   "metadata": {},
   "outputs": [],
   "source": [
    "#OLS"
   ]
  },
  {
   "cell_type": "code",
   "execution_count": 6,
   "metadata": {},
   "outputs": [
    {
     "name": "stdout",
     "output_type": "stream",
     "text": [
      "None\n"
     ]
    }
   ],
   "source": [
    "np.random.seed(17)\n",
    "random.seed(17)"
   ]
  },
  {
   "cell_type": "code",
   "execution_count": 15,
   "metadata": {},
   "outputs": [],
   "source": [
    "train=pd.read_csv('train_2016_v2.csv', parse_dates=['transactiondate'])\n",
    "properties=pd.read_csv('properties_2016.csv')\n",
    "submission=pd.read_csv('sample_submission.csv')"
   ]
  },
  {
   "cell_type": "code",
   "execution_count": 16,
   "metadata": {},
   "outputs": [
    {
     "name": "stdout",
     "output_type": "stream",
     "text": [
      "90275 2985217 2985217\n"
     ]
    }
   ],
   "source": [
    "print(len(train),len(properties),len(submission))"
   ]
  },
  {
   "cell_type": "code",
   "execution_count": 18,
   "metadata": {},
   "outputs": [],
   "source": [
    "#Get year,month, quarter as new features from df\n",
    "def get_features(df):\n",
    "    df['transactiondate']=pd.to_datetime(df['transactiondate'])\n",
    "    df['transactiondate_year']=df['transactiondate'].dt.year\n",
    "    df['transactiondate_month']=df['transactiondate'].dt.month\n",
    "    df['transactiondate_quarter']=df['transactiondate'].dt.quarter\n",
    "    df=df.fillna(-1.0)\n",
    "    return df"
   ]
  },
  {
   "cell_type": "code",
   "execution_count": 19,
   "metadata": {},
   "outputs": [],
   "source": [
    "def MAE(y,ypred):\n",
    "    #logerror=log(Zestimate)-log(SalesPrice)\n",
    "    return np.sum([abs(y[i]-ypred[i]) for i in range(len(y))]) /len(y)"
   ]
  },
  {
   "cell_type": "code",
   "execution_count": 21,
   "metadata": {},
   "outputs": [
    {
     "data": {
      "text/plain": [
       "[1, 2, 3]"
      ]
     },
     "execution_count": 21,
     "metadata": {},
     "output_type": "execute_result"
    }
   ],
   "source": [
    "train=get_features(train[col])"
   ]
  },
  {
   "cell_type": "code",
   "execution_count": null,
   "metadata": {},
   "outputs": [],
   "source": []
  }
 ],
 "metadata": {
  "kernelspec": {
   "display_name": "Python 3",
   "language": "python",
   "name": "python3"
  },
  "language_info": {
   "codemirror_mode": {
    "name": "ipython",
    "version": 3
   },
   "file_extension": ".py",
   "mimetype": "text/x-python",
   "name": "python",
   "nbconvert_exporter": "python",
   "pygments_lexer": "ipython3",
   "version": "3.7.1"
  }
 },
 "nbformat": 4,
 "nbformat_minor": 2
}
