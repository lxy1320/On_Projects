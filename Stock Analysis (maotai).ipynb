{
 "cells": [
  {
   "cell_type": "code",
   "execution_count": 1,
   "metadata": {},
   "outputs": [],
   "source": [
    "import random\n",
    "import numpy as np\n",
    "import sys\n",
    "import pandas as pd\n",
    "import datetime\n",
    "import matplotlib.pyplot as plt\n",
    "import mplfinance as fin\n",
    "from matplotlib.dates import date2num\n",
    "import tushare as ts"
   ]
  },
  {
   "cell_type": "code",
   "execution_count": 2,
   "metadata": {},
   "outputs": [],
   "source": [
    "df=ts.get_k_data('600519',start='1988-01-01')\n",
    "df.to_csv('600519.csv')\n",
    "df=pd.read_csv('600519.csv',index_col='date',parse_dates=['date'])[['open','close','high','low']]"
   ]
  },
  {
   "cell_type": "code",
   "execution_count": 6,
   "metadata": {},
   "outputs": [
    {
     "data": {
      "text/plain": [
       "DatetimeIndex(['2001-08-27', '2001-08-28', '2001-09-10', '2001-12-21',\n",
       "               '2002-01-18', '2002-01-31', '2003-01-14', '2003-10-29',\n",
       "               '2004-01-05', '2004-01-14',\n",
       "               ...\n",
       "               '2019-05-15', '2019-06-11', '2019-06-20', '2019-09-12',\n",
       "               '2019-09-18', '2020-02-11', '2020-03-02', '2020-03-05',\n",
       "               '2020-03-10', '2020-04-02'],\n",
       "              dtype='datetime64[ns]', name='date', length=308, freq=None)"
      ]
     },
     "execution_count": 6,
     "metadata": {},
     "output_type": "execute_result"
    }
   ],
   "source": [
    "#closing price is 3% more than opening price\n",
    "df[(df['close']-df['open'])/df['open']>=0.03].index"
   ]
  },
  {
   "cell_type": "code",
   "execution_count": 9,
   "metadata": {},
   "outputs": [
    {
     "data": {
      "text/plain": [
       "DatetimeIndex(['2001-08-27', '2001-08-28', '2001-08-29', '2001-08-30',\n",
       "               '2001-08-31', '2001-09-03', '2001-09-04', '2001-09-05',\n",
       "               '2001-09-06', '2001-09-10',\n",
       "               ...\n",
       "               '2020-04-01', '2020-04-02', '2020-04-03', '2020-04-07',\n",
       "               '2020-04-08', '2020-04-09', '2020-04-10', '2020-04-13',\n",
       "               '2020-04-14', '2020-04-15'],\n",
       "              dtype='datetime64[ns]', name='date', length=4014, freq=None)"
      ]
     },
     "execution_count": 9,
     "metadata": {},
     "output_type": "execute_result"
    }
   ],
   "source": [
    "#opening price is more than 2% of yesterday's closing price\n",
    "df['close'].shift(1)\n",
    "df[(df['open']-df['close'])/df['close']<=0.02].index"
   ]
  },
  {
   "cell_type": "code",
   "execution_count": 27,
   "metadata": {},
   "outputs": [
    {
     "name": "stderr",
     "output_type": "stream",
     "text": [
      "/Users/xiaoyingliu/anaconda3/lib/python3.7/site-packages/ipykernel_launcher.py:4: UserWarning: Pandas doesn't allow columns to be created via a new attribute name - see https://pandas.pydata.org/pandas-docs/stable/indexing.html#attribute-access\n",
      "  after removing the cwd from sys.path.\n"
     ]
    }
   ],
   "source": [
    "#how about starting from 2010/1/1, buy on 1st day of each month, and sell last day of the year, how is my profit?\n",
    "df=df['2001-09':'2017-11']#剔除首尾不用的数据\n",
    "df_monthly=df.resample('M').first()\n",
    "df.yearly=df.resample('A').last()"
   ]
  },
  {
   "cell_type": "code",
   "execution_count": 29,
   "metadata": {},
   "outputs": [
    {
     "name": "stdout",
     "output_type": "stream",
     "text": [
      "425573.8\n"
     ]
    }
   ],
   "source": [
    "cost_money=0\n",
    "hold=0\n",
    "for year in range(2001,2018):\n",
    "    cost_money+=df_monthly[str(year)]['open'].sum()*100\n",
    "    hold+=len(df_monthly[str(year)]['open'])*100\n",
    "    cost_money-=df.yearly[str(year)]['open'][0]*hold\n",
    "    hold=0\n",
    "\n",
    "#cost_money-=hold*price_last\n",
    "print(-cost_money)"
   ]
  }
 ],
 "metadata": {
  "kernelspec": {
   "display_name": "Python 3",
   "language": "python",
   "name": "python3"
  },
  "language_info": {
   "codemirror_mode": {
    "name": "ipython",
    "version": 3
   },
   "file_extension": ".py",
   "mimetype": "text/x-python",
   "name": "python",
   "nbconvert_exporter": "python",
   "pygments_lexer": "ipython3",
   "version": "3.7.1"
  }
 },
 "nbformat": 4,
 "nbformat_minor": 2
}
