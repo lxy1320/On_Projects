{
 "cells": [
  {
   "cell_type": "code",
   "execution_count": 4,
   "metadata": {},
   "outputs": [
    {
     "name": "stdout",
     "output_type": "stream",
     "text": [
      "b'<!DOCTYPE html>\\r\\n<!--STATUS OK--><html> <head><meta http-equiv=content-type content=text/html;charset=utf-8><meta http-equiv=X-UA-Compatible content=IE=Edge><meta content=always name=referrer><link rel=stylesheet type=text/css href=https://ss1.bdstatic.com/5eN1bjq8AAUYm2zgoY3K/r/www/cache/bdorz/baidu.min.css><title>\\xe7\\x99\\xbe\\xe5\\xba\\xa6\\xe4\\xb8\\x80\\xe4\\xb8\\x8b\\xef\\xbc\\x8c\\xe4\\xbd\\xa0\\xe5\\xb0\\xb1\\xe7\\x9f\\xa5\\xe9\\x81\\x93</title></head> <body link=#0000cc> <div id=wrapper> <div id=head> <div class=head_wrapper> <div class=s_form> <div class=s_form_wrapper> <div id=lg> <img hidefocus=true src=//www.baidu.com/img/bd_logo1.png width=270 height=129> </div> <form id=form name=f action=//www.baidu.com/s class=fm> <input type=hidden name=bdorz_come value=1> <input type=hidden name=ie value=utf-8> <input type=hidden name=f value=8> <input type=hidden name=rsv_bp value=1> <input type=hidden name=rsv_idx value=1> <input type=hidden name=tn value=baidu><span class=\"bg s_ipt_wr\"><input id=kw name=wd class=s_ipt value maxlength=255 autocomplete=off autofocus=autofocus></span><span class=\"bg s_btn_wr\"><input type=submit id=su value=\\xe7\\x99\\xbe\\xe5\\xba\\xa6\\xe4\\xb8\\x80\\xe4\\xb8\\x8b class=\"bg s_btn\" autofocus></span> </form> </div> </div> <div id=u1> <a href=http://news.baidu.com name=tj_trnews class=mnav>\\xe6\\x96\\xb0\\xe9\\x97\\xbb</a> <a href=https://www.hao123.com name=tj_trhao123 class=mnav>hao123</a> <a href=http://map.baidu.com name=tj_trmap class=mnav>\\xe5\\x9c\\xb0\\xe5\\x9b\\xbe</a> <a href=http://v.baidu.com name=tj_trvideo class=mnav>\\xe8\\xa7\\x86\\xe9\\xa2\\x91</a> <a href=http://tieba.baidu.com name=tj_trtieba class=mnav>\\xe8\\xb4\\xb4\\xe5\\x90\\xa7</a> <noscript> <a href=http://www.baidu.com/bdorz/login.gif?login&amp;tpl=mn&amp;u=http%3A%2F%2Fwww.baidu.com%2f%3fbdorz_come%3d1 name=tj_login class=lb>\\xe7\\x99\\xbb\\xe5\\xbd\\x95</a> </noscript> <script>document.write(\\'<a href=\"http://www.baidu.com/bdorz/login.gif?login&tpl=mn&u=\\'+ encodeURIComponent(window.location.href+ (window.location.search === \"\" ? \"?\" : \"&\")+ \"bdorz_come=1\")+ \\'\" name=\"tj_login\" class=\"lb\">\\xe7\\x99\\xbb\\xe5\\xbd\\x95</a>\\');\\r\\n                </script> <a href=//www.baidu.com/more/ name=tj_briicon class=bri style=\"display: block;\">\\xe6\\x9b\\xb4\\xe5\\xa4\\x9a\\xe4\\xba\\xa7\\xe5\\x93\\x81</a> </div> </div> </div> <div id=ftCon> <div id=ftConw> <p id=lh> <a href=http://home.baidu.com>\\xe5\\x85\\xb3\\xe4\\xba\\x8e\\xe7\\x99\\xbe\\xe5\\xba\\xa6</a> <a href=http://ir.baidu.com>About Baidu</a> </p> <p id=cp>&copy;2017&nbsp;Baidu&nbsp;<a href=http://www.baidu.com/duty/>\\xe4\\xbd\\xbf\\xe7\\x94\\xa8\\xe7\\x99\\xbe\\xe5\\xba\\xa6\\xe5\\x89\\x8d\\xe5\\xbf\\x85\\xe8\\xaf\\xbb</a>&nbsp; <a href=http://jianyi.baidu.com/ class=cp-feedback>\\xe6\\x84\\x8f\\xe8\\xa7\\x81\\xe5\\x8f\\x8d\\xe9\\xa6\\x88</a>&nbsp;\\xe4\\xba\\xacICP\\xe8\\xaf\\x81030173\\xe5\\x8f\\xb7&nbsp; <img src=//www.baidu.com/img/gs.gif> </p> </div> </div> </div> </body> </html>\\r\\n'\n",
      "<!DOCTYPE html>\r\n",
      "<!--STATUS OK--><html> <head><meta http-equiv=content-type content=text/html;charset=utf-8><meta http-equiv=X-UA-Compatible content=IE=Edge><meta content=always name=referrer><link rel=stylesheet type=text/css href=https://ss1.bdstatic.com/5eN1bjq8AAUYm2zgoY3K/r/www/cache/bdorz/baidu.min.css><title>百度一下，你就知道</title></head> <body link=#0000cc> <div id=wrapper> <div id=head> <div class=head_wrapper> <div class=s_form> <div class=s_form_wrapper> <div id=lg> <img hidefocus=true src=//www.baidu.com/img/bd_logo1.png width=270 height=129> </div> <form id=form name=f action=//www.baidu.com/s class=fm> <input type=hidden name=bdorz_come value=1> <input type=hidden name=ie value=utf-8> <input type=hidden name=f value=8> <input type=hidden name=rsv_bp value=1> <input type=hidden name=rsv_idx value=1> <input type=hidden name=tn value=baidu><span class=\"bg s_ipt_wr\"><input id=kw name=wd class=s_ipt value maxlength=255 autocomplete=off autofocus=autofocus></span><span class=\"bg s_btn_wr\"><input type=submit id=su value=百度一下 class=\"bg s_btn\" autofocus></span> </form> </div> </div> <div id=u1> <a href=http://news.baidu.com name=tj_trnews class=mnav>新闻</a> <a href=https://www.hao123.com name=tj_trhao123 class=mnav>hao123</a> <a href=http://map.baidu.com name=tj_trmap class=mnav>地图</a> <a href=http://v.baidu.com name=tj_trvideo class=mnav>视频</a> <a href=http://tieba.baidu.com name=tj_trtieba class=mnav>贴吧</a> <noscript> <a href=http://www.baidu.com/bdorz/login.gif?login&amp;tpl=mn&amp;u=http%3A%2F%2Fwww.baidu.com%2f%3fbdorz_come%3d1 name=tj_login class=lb>登录</a> </noscript> <script>document.write('<a href=\"http://www.baidu.com/bdorz/login.gif?login&tpl=mn&u='+ encodeURIComponent(window.location.href+ (window.location.search === \"\" ? \"?\" : \"&\")+ \"bdorz_come=1\")+ '\" name=\"tj_login\" class=\"lb\">登录</a>');\r\n",
      "                </script> <a href=//www.baidu.com/more/ name=tj_briicon class=bri style=\"display: block;\">更多产品</a> </div> </div> </div> <div id=ftCon> <div id=ftConw> <p id=lh> <a href=http://home.baidu.com>关于百度</a> <a href=http://ir.baidu.com>About Baidu</a> </p> <p id=cp>&copy;2017&nbsp;Baidu&nbsp;<a href=http://www.baidu.com/duty/>使用百度前必读</a>&nbsp; <a href=http://jianyi.baidu.com/ class=cp-feedback>意见反馈</a>&nbsp;京ICP证030173号&nbsp; <img src=//www.baidu.com/img/gs.gif> </p> </div> </div> </div> </body> </html>\r\n",
      "\n",
      "<!DOCTYPE html>\r\n",
      "<!--STATUS OK--><html> <head><meta http-equiv=content-type content=text/html;charset=utf-8><meta http-equiv=X-UA-Compatible content=IE=Edge><meta content=always name=referrer><link rel=stylesheet type=text/css href=https://ss1.bdstatic.com/5eN1bjq8AAUYm2zgoY3K/r/www/cache/bdorz/baidu.min.css><title>ç¾åº¦ä¸ä¸ï¼ä½ å°±ç¥é</title></head> <body link=#0000cc> <div id=wrapper> <div id=head> <div class=head_wrapper> <div class=s_form> <div class=s_form_wrapper> <div id=lg> <img hidefocus=true src=//www.baidu.com/img/bd_logo1.png width=270 height=129> </div> <form id=form name=f action=//www.baidu.com/s class=fm> <input type=hidden name=bdorz_come value=1> <input type=hidden name=ie value=utf-8> <input type=hidden name=f value=8> <input type=hidden name=rsv_bp value=1> <input type=hidden name=rsv_idx value=1> <input type=hidden name=tn value=baidu><span class=\"bg s_ipt_wr\"><input id=kw name=wd class=s_ipt value maxlength=255 autocomplete=off autofocus=autofocus></span><span class=\"bg s_btn_wr\"><input type=submit id=su value=ç¾åº¦ä¸ä¸ class=\"bg s_btn\" autofocus></span> </form> </div> </div> <div id=u1> <a href=http://news.baidu.com name=tj_trnews class=mnav>æ°é»</a> <a href=https://www.hao123.com name=tj_trhao123 class=mnav>hao123</a> <a href=http://map.baidu.com name=tj_trmap class=mnav>å°å¾</a> <a href=http://v.baidu.com name=tj_trvideo class=mnav>è§é¢</a> <a href=http://tieba.baidu.com name=tj_trtieba class=mnav>è´´å§</a> <noscript> <a href=http://www.baidu.com/bdorz/login.gif?login&amp;tpl=mn&amp;u=http%3A%2F%2Fwww.baidu.com%2f%3fbdorz_come%3d1 name=tj_login class=lb>ç»å½</a> </noscript> <script>document.write('<a href=\"http://www.baidu.com/bdorz/login.gif?login&tpl=mn&u='+ encodeURIComponent(window.location.href+ (window.location.search === \"\" ? \"?\" : \"&\")+ \"bdorz_come=1\")+ '\" name=\"tj_login\" class=\"lb\">ç»å½</a>');\r\n",
      "                </script> <a href=//www.baidu.com/more/ name=tj_briicon class=bri style=\"display: block;\">æ´å¤äº§å</a> </div> </div> </div> <div id=ftCon> <div id=ftConw> <p id=lh> <a href=http://home.baidu.com>å",
      "³äºç¾åº¦</a> <a href=http://ir.baidu.com>About Baidu</a> </p> <p id=cp>&copy;2017&nbsp;Baidu&nbsp;<a href=http://www.baidu.com/duty/>ä½¿ç¨ç¾åº¦åå¿",
      "è¯»</a>&nbsp; <a href=http://jianyi.baidu.com/ class=cp-feedback>æè§åé¦</a>&nbsp;äº¬ICPè¯030173å·&nbsp; <img src=//www.baidu.com/img/gs.gif> </p> </div> </div> </div> </body> </html>\r\n",
      "\n",
      "{'Cache-Control': 'private, no-cache, no-store, proxy-revalidate, no-transform', 'Connection': 'Keep-Alive', 'Content-Encoding': 'gzip', 'Content-Type': 'text/html', 'Date': 'Fri, 10 Apr 2020 17:08:41 GMT', 'Last-Modified': 'Mon, 23 Jan 2017 13:24:33 GMT', 'Pragma': 'no-cache', 'Server': 'bfe/1.0.8.18', 'Set-Cookie': 'BDORZ=27315; max-age=86400; domain=.baidu.com; path=/', 'Transfer-Encoding': 'chunked'}\n"
     ]
    }
   ],
   "source": [
    "#关于requests basics\n",
    "import requests\n",
    "#define request url\n",
    "url='https://www.baidu.com'\n",
    "#Get\n",
    "res=requests.get(url)\n",
    "#obtain response\n",
    "print(res.content) #res is a respons object #b'.....' 二进制文本流\n",
    "print(res.content.decode('utf-8')) #二进制文本流按照utf8字符集转化为普通字符串\n",
    "code=res.status_code# 请求状态码 200 是请求成功\n",
    "print(res.text) #相应内容\n",
    "print(res.headers)# 请求头信息 如果用浏览器发请求， 会在user agent留下机器和浏览器的信息，如果用代码则会显示python requests"
   ]
  },
  {
   "cell_type": "code",
   "execution_count": 11,
   "metadata": {},
   "outputs": [],
   "source": [
    "#关于requests 请求头\n",
    "#相应成功后把内容写入\n",
    "if code ==200:\n",
    "    with open('./test.html','w') as fp:\n",
    "        fp.write(res.text)"
   ]
  },
  {
   "cell_type": "code",
   "execution_count": 18,
   "metadata": {},
   "outputs": [
    {
     "name": "stdout",
     "output_type": "stream",
     "text": [
      "200\n"
     ]
    }
   ],
   "source": [
    "#take xicidaili as an instance, we are rejected to get info with python requests code503\n",
    "url='https://www.xicidaili.com/nn'\n",
    "#定义请求头信息\n",
    "headers={\n",
    "    'User-Agent': 'Mozilla/5.0 (Macintosh; Intel Mac OS X 10.13; rv:68.0) Gecko/20100101 Firefox/68.0'    \n",
    "}\n",
    "res=requests.get(url,headers=headers)\n",
    "print(res.status_code) "
   ]
  },
  {
   "cell_type": "code",
   "execution_count": 25,
   "metadata": {},
   "outputs": [
    {
     "name": "stdout",
     "output_type": "stream",
     "text": [
      "200\n",
      "{'errno': 1001, 'errmsg': '参数错误'}\n"
     ]
    }
   ],
   "source": [
    "#关于POST请求\n",
    "url='http://fanyi.baidu.com/sug'\n",
    "#定义请求头\n",
    "headers={\n",
    "    'User-Agent': 'Mozilla/5.0 (Macintosh; Intel Mac OS X 10.13; rv:68.0) Gecko/20100101 Firefox/68.0'  \n",
    "}\n",
    "#定义发送的数据\n",
    "data={'kw':'你好'}\n",
    "#发送请求\n",
    "res=requests.post(url, headers,data)\n",
    "#接受返回数据\n",
    "print(res.status_code) \n",
    "print(res.json())   #similar to res.text, just that we use json to intepret"
   ]
  },
  {
   "cell_type": "code",
   "execution_count": null,
   "metadata": {},
   "outputs": [],
   "source": [
    "#关于cookies/session\n",
    "url='https://www.xicidaili.com/nn'\n",
    "headers={\n",
    "    'User-Agent': 'Mozilla/5.0 (Macintosh; Intel Mac OS X 10.13; rv:68.0) Gecko/20100101 Firefox/68.0'    \n",
    "    # 'cookie': \n",
    "}"
   ]
  },
  {
   "cell_type": "code",
   "execution_count": 28,
   "metadata": {},
   "outputs": [
    {
     "ename": "SyntaxError",
     "evalue": "EOL while scanning string literal (<ipython-input-28-f638a99306f3>, line 8)",
     "output_type": "error",
     "traceback": [
      "\u001b[0;36m  File \u001b[0;32m\"<ipython-input-28-f638a99306f3>\"\u001b[0;36m, line \u001b[0;32m8\u001b[0m\n\u001b[0;31m    text='<html>\u001b[0m\n\u001b[0m                ^\u001b[0m\n\u001b[0;31mSyntaxError\u001b[0m\u001b[0;31m:\u001b[0m EOL while scanning string literal\n"
     ]
    }
   ],
   "source": [
    "#关于xpath \n",
    "from lxml import etree\n",
    "#resp_html=etree.HTML(text)\n",
    "#or\n",
    "#html=etree.parse('./test.html',etree.HTMLParser())\n",
    "#print(html.decode('utf-8'))\n",
    "\n",
    "\n",
    "#提取所需数据\n",
    "#r=xpath('/html/body/ul/li[1]/a/text()')\n",
    "#print(r)\n",
    "#indexing starts from 1\n",
    "\n",
    "#获取指定标签里的数据 例如teacher标签下的内容\n",
    "#t=html.xpath('//div[@class='teacher']//li/a/text()')\n",
    "#h=html.xpath('//div[@class='teacher']//li/a/@href')\n",
    "\n",
    "#用zip函数获取配对信息\n",
    "#res=list(zip(t,h))"
   ]
  },
  {
   "cell_type": "code",
   "execution_count": 41,
   "metadata": {},
   "outputs": [
    {
     "ename": "SyntaxError",
     "evalue": "invalid syntax (<ipython-input-41-8c2b056abea2>, line 48)",
     "output_type": "error",
     "traceback": [
      "\u001b[0;36m  File \u001b[0;32m\"<ipython-input-41-8c2b056abea2>\"\u001b[0;36m, line \u001b[0;32m48\u001b[0m\n\u001b[0;31m    r=html.xpath('//div[@class='avatar-content']//small/text()')\u001b[0m\n\u001b[0m                                     ^\u001b[0m\n\u001b[0;31mSyntaxError\u001b[0m\u001b[0;31m:\u001b[0m invalid syntax\n"
     ]
    }
   ],
   "source": [
    "#xpath login instance\n",
    "#1. get请求，login页面，设置cookie，获取token\n",
    "class LMonKey():\n",
    "    loginurl='http://www.lmonkey.com/login'\n",
    "    orderurl='https://www.lmonkey.com/my/order'\n",
    "    headers={\n",
    "          'User-Agent': 'Mozilla/5.0 (Macintosh; Intel Mac OS X 10.13; rv:68.0) Gecko/20100101 Firefox/68.0'\n",
    "    }\n",
    "    req = None\n",
    "    _token=' '\n",
    "    order_code=0\n",
    "    \n",
    "    def __init__(self):\n",
    "        self.req=requests.session()\n",
    "        if self.getlogin():\n",
    "            if self.postlogin():\n",
    "                self.getorder()\n",
    "        \n",
    "    def getlogin(self):\n",
    "        res=self.req.get(url=self.loginurl,headers=self.headers)\n",
    "        if res.status_code==200:\n",
    "            print('get登陆页面成功')\n",
    "            self.token=html.xpath('//input[@name=''_token'']/@value')[0]\n",
    "            print('token获取成功')\n",
    "            return True\n",
    "        else:\n",
    "            print('请求错误')\n",
    "    \n",
    "    def postlogin(self):\n",
    "        uname=input('手机号：')\n",
    "        passw=input('密码: ')\n",
    "        \n",
    "        data={\n",
    "            '_token':self.token,\n",
    "            'username':uname,\n",
    "            'password': passw     \n",
    "        }\n",
    "        #发起post请求\n",
    "        res=self.req.post(url=self.loginurl,headers=self.headers,data=data)\n",
    "        \n",
    "        if res.status_code==200 or res.status_code==302:\n",
    "            print('登陆成功')\n",
    "            return True\n",
    "    \n",
    "    #请求订单数据\n",
    "    def getorder(self):\n",
    "        res=self.req.get(url=self.orderurl,headers=self.headers)\n",
    "        if res.status_code==200:\n",
    "            print('账户请求成功，正在解析数据')\n",
    "            html=etree.HTML(res.text)\n",
    "            r=html.xpath('//div[@class='avatar-content']//small/text()')\n",
    "            print(r)\n",
    "            self.ordercode=r\n",
    "        \n",
    "             \n",
    "obj=LMonKey()\n",
    "obj.getlogin()\n",
    "obj.postlogin()\n",
    "    \n",
    "#2.post请求，提交登陆数据，登陆，设置cookie\n",
    "\n",
    "#3.get请求，账户中心，获取默认订单号\n"
   ]
  },
  {
   "cell_type": "code",
   "execution_count": 7,
   "metadata": {},
   "outputs": [
    {
     "ename": "TypeError",
     "evalue": "'NoneType' object is not subscriptable",
     "output_type": "error",
     "traceback": [
      "\u001b[0;31m---------------------------------------------------------------------------\u001b[0m",
      "\u001b[0;31mTypeError\u001b[0m                                 Traceback (most recent call last)",
      "\u001b[0;32m<ipython-input-7-15b8868710b9>\u001b[0m in \u001b[0;36m<module>\u001b[0;34m\u001b[0m\n\u001b[1;32m      6\u001b[0m \u001b[0;31m#通过tag标签获得文档数据\u001b[0m\u001b[0;34m\u001b[0m\u001b[0;34m\u001b[0m\u001b[0;34m\u001b[0m\u001b[0m\n\u001b[1;32m      7\u001b[0m \u001b[0mr\u001b[0m\u001b[0;34m=\u001b[0m\u001b[0msoup\u001b[0m\u001b[0;34m.\u001b[0m\u001b[0mtitle\u001b[0m\u001b[0;34m\u001b[0m\u001b[0;34m\u001b[0m\u001b[0m\n\u001b[0;32m----> 8\u001b[0;31m \u001b[0mr\u001b[0m\u001b[0;34m=\u001b[0m\u001b[0msoup\u001b[0m\u001b[0;34m.\u001b[0m\u001b[0mp\u001b[0m\u001b[0;34m[\u001b[0m\u001b[0;34m'class'\u001b[0m\u001b[0;34m]\u001b[0m\u001b[0;34m\u001b[0m\u001b[0;34m\u001b[0m\u001b[0m\n\u001b[0m\u001b[1;32m      9\u001b[0m \u001b[0mr\u001b[0m\u001b[0;34m=\u001b[0m\u001b[0msoup\u001b[0m\u001b[0;34m.\u001b[0m\u001b[0mp\u001b[0m\u001b[0;34m.\u001b[0m\u001b[0mb\u001b[0m\u001b[0;34m\u001b[0m\u001b[0;34m\u001b[0m\u001b[0m\n\u001b[1;32m     10\u001b[0m \u001b[0;34m\u001b[0m\u001b[0m\n",
      "\u001b[0;31mTypeError\u001b[0m: 'NoneType' object is not subscriptable"
     ]
    }
   ],
   "source": [
    "#bs4  basics\n",
    "from bs4 import BeautifulSoup\n",
    "html_doc=''\n",
    "#创建一个beautiful soup 对象，手动指定解析器\n",
    "soup=BeautifulSoup(html_doc,'lxml')\n",
    "#通过tag标签获得文档数据\n",
    "r=soup.title\n",
    "r=soup.p['class']\n",
    "r=soup.p.b\n",
    "\n",
    "#通过搜索获取页面中的元素\n",
    "soup.find_all('a')# return a list no matter results or not\n",
    "#soup.find('a') return 1st element\n",
    "soup.find(id='')"
   ]
  },
  {
   "cell_type": "code",
   "execution_count": 13,
   "metadata": {},
   "outputs": [],
   "source": [
    "#用beautiful soul爬取学习猿地实例 lmonkey.com\n",
    "#数据原地址\n",
    "from bs4 import BeautifulSoup\n",
    "url='https://www.lmonkey.com/t'\n",
    "#数据内容：文章链接作者发布时间\n",
    "#方法：bs4\n",
    "#1.定义请求url和请求头\n",
    "headers={\n",
    "    'User-Agent': 'Mozilla/5.0 (Macintosh; Intel Mac OS X 10.13; rv:68.0) Gecko/20100101 Firefox/68.0'  \n",
    "}\n",
    "#2.发送请求\n",
    "res=requests.get(url,headers)\n",
    "#3.判断请求是否成功，获取请求源代码\n",
    "res.status_code==200\n",
    "\n",
    "#4.解析数据\n",
    "soup=BeautifulSoup(res.text,'lxml')\n",
    "#获取页面中所有文章\n",
    "divs=soup.find_all('div',class_='list-group-item list-group-item-action p-06 ')\n",
    "for i in divs:\n",
    "    r=i.find('div',class_='topic_title')\n",
    "    if r:\n",
    "        print(r.text.split('\\n')[0])\n",
    "#5.写入数据\n",
    "#with open('./yq.json','w') as fp:\n",
    "    #json.dump(varlist,fp)"
   ]
  },
  {
   "cell_type": "code",
   "execution_count": null,
   "metadata": {},
   "outputs": [],
   "source": [
    "#bs4爬取代码优化，类封装\n",
    "class Bs4Yq():\n",
    "    #定义属性\n",
    "    url=None\n",
    "    headers=\n",
    "    #响应源代码的存放\n",
    "    res_html=None\n",
    "    #存储解析后的数据\n",
    "    varlist=[]\n",
    "    #初始化方法\n",
    "    def __init__(self):\n",
    "        #发起请求\n",
    "        res=requests.get(self.url,self.headers)\n",
    "        if res.status_code==200:\n",
    "            self.res_html=res.text\n",
    "            self.parse_data()\n",
    "            if self.parse_data:\n",
    "                self.WriteJson()\n",
    "            print('请求成功')\n",
    "        else:\n",
    "            print('请求失败')\n",
    "    #解析数据\n",
    "    def parse_data(self):\n",
    "        soup=BeautifulSoup(self.res_html,'lxml')\n",
    "        try:\n",
    "            divs=soup.find_all('div',class_='list-group-item list-group-item-action p-06 ')\n",
    "            for i in divs:\n",
    "                r=i.find('div',class_='topic_title')\n",
    "                if r:\n",
    "                    print(r.text.split('\\n')[0])\n",
    "                    self.varlist.append(r)\n",
    "            return True\n",
    "        except:\n",
    "            return False\n",
    "        #use try except as a switching tool\n",
    "        \n",
    "    #写入数据\n",
    "    def WriteJson(self):\n",
    "        if self.varlist!=[]:\n",
    "            #with open('./yq.json','w') as fp:\n",
    "                #json.dump(varlist,fp)\n",
    "        else:\n",
    "            print('无法获取当前解析数据')\n",
    "            \n",
    "#实例化\n",
    "Bs4Yq()\n",
    "\n"
   ]
  }
 ],
 "metadata": {
  "kernelspec": {
   "display_name": "Python 3",
   "language": "python",
   "name": "python3"
  },
  "language_info": {
   "codemirror_mode": {
    "name": "ipython",
    "version": 3
   },
   "file_extension": ".py",
   "mimetype": "text/x-python",
   "name": "python",
   "nbconvert_exporter": "python",
   "pygments_lexer": "ipython3",
   "version": "3.7.1"
  }
 },
 "nbformat": 4,
 "nbformat_minor": 2
}
