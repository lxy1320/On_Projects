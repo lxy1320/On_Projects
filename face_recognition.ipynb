{
 "cells": [
  {
   "cell_type": "code",
   "execution_count": 16,
   "metadata": {},
   "outputs": [
    {
     "name": "stdout",
     "output_type": "stream",
     "text": [
      "/Users/xiaoyingliu/Desktop\n"
     ]
    }
   ],
   "source": [
    "import cv2\n",
    "import sys\n",
    "import dlib\n",
    "import face_recognition\n",
    "%cd '/Users/xiaoyingliu/desktop'"
   ]
  },
  {
   "cell_type": "code",
   "execution_count": 17,
   "metadata": {},
   "outputs": [],
   "source": [
    "import numpy as np"
   ]
  },
  {
   "cell_type": "code",
   "execution_count": 18,
   "metadata": {},
   "outputs": [
    {
     "data": {
      "text/plain": [
       "(1920, 1079, 3)"
      ]
     },
     "execution_count": 18,
     "metadata": {},
     "output_type": "execute_result"
    }
   ],
   "source": [
    "face_image=face_recognition.load_image_file('rebecca')\n",
    "np.shape(face_image)"
   ]
  },
  {
   "cell_type": "code",
   "execution_count": 19,
   "metadata": {},
   "outputs": [],
   "source": [
    "face_encodings=face_recognition.face_encodings(face_image)"
   ]
  },
  {
   "cell_type": "code",
   "execution_count": 20,
   "metadata": {},
   "outputs": [
    {
     "data": {
      "text/plain": [
       "(2, 128)"
      ]
     },
     "execution_count": 20,
     "metadata": {},
     "output_type": "execute_result"
    }
   ],
   "source": [
    "#128 维特征\n",
    "np.shape(face_encodings)"
   ]
  },
  {
   "cell_type": "code",
   "execution_count": 21,
   "metadata": {},
   "outputs": [
    {
     "name": "stdout",
     "output_type": "stream",
     "text": [
      "[(846, 974, 1232, 589), (846, 632, 1232, 247)]\n"
     ]
    }
   ],
   "source": [
    "#返回图像中每个人脸的面部特征位置(上，右，下，左边界）\n",
    "face_locations=face_recognition.face_locations(face_image)\n",
    "print(face_locations)"
   ]
  },
  {
   "cell_type": "code",
   "execution_count": 22,
   "metadata": {},
   "outputs": [],
   "source": [
    "#如果图像有多于两人的情况\n",
    "n=len(face_encodings)\n",
    "if n>2:\n",
    "    print('number of faces>2')\n",
    "    sys.exit()\n",
    "    \n",
    "try:\n",
    "    face1=face_encodings[0]\n",
    "    face2=face_encodings[1]\n",
    "    \n",
    "except:\n",
    "    print('2')\n",
    "    sys.exit()\n"
   ]
  },
  {
   "cell_type": "code",
   "execution_count": 23,
   "metadata": {},
   "outputs": [],
   "source": [
    "#两个人脸的特征对比\n",
    "results=face_recognition.compare_faces([face1],face2,tolerance=0.5)\n"
   ]
  },
  {
   "cell_type": "code",
   "execution_count": 24,
   "metadata": {},
   "outputs": [
    {
     "data": {
      "text/plain": [
       "[True]"
      ]
     },
     "execution_count": 24,
     "metadata": {},
     "output_type": "execute_result"
    }
   ],
   "source": [
    "results"
   ]
  },
  {
   "cell_type": "code",
   "execution_count": null,
   "metadata": {},
   "outputs": [],
   "source": []
  }
 ],
 "metadata": {
  "kernelspec": {
   "display_name": "Python 3",
   "language": "python",
   "name": "python3"
  },
  "language_info": {
   "codemirror_mode": {
    "name": "ipython",
    "version": 3
   },
   "file_extension": ".py",
   "mimetype": "text/x-python",
   "name": "python",
   "nbconvert_exporter": "python",
   "pygments_lexer": "ipython3",
   "version": "3.7.1"
  }
 },
 "nbformat": 4,
 "nbformat_minor": 2
}
