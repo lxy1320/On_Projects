{
 "cells": [
  {
   "cell_type": "markdown",
   "metadata": {},
   "source": [
    "# How big is the market \n",
    "The global computer accessories market size is expected to grow by USD 2.86 billion during 2020-2024.\n",
    "In particular, The trend of assembling the PC instead of buying the whole product, including the accessories from the same vendor, is on the rise.\n",
    "\n",
    "In the coming years there is an increasing demand for Heat Sinks in the regions of North America, Europe and Asia. The global Heat Sinks market size is projected to reach USD 17770 million by 2026, from USD 13650 million in 2020, at a GR of 4.5% during 2021-2026."
   ]
  },
  {
   "cell_type": "markdown",
   "metadata": {},
   "source": [
    "# Key players\n",
    "key players with Market Value, Company profile, SWOT analysis. \n",
    "\n",
    "## Alpha  https://www.alphanovatech.com/en/cindex5e.html\n",
    "Basics: founded in 1972, headquarter in Japan,electronic and automobile thermal solutions. 1989 started to develop heatsinks. \n",
    "Patent: micro-forging. MicroForging can produce fins of almost any shape. This includes elliptical and hexagonal fins, well suited for passive and active applications. Dense and sparse patterns can be forged, allowing the optimal pattern to be created. Our patented copper embedding process provides significant improvement if the heat source size is small and the power dissipation is high.\n",
    "\n",
    "Product: high performance heat sinks and precision cold forging of complex light material parts\n",
    "Cost Analysis:\n",
    "\n",
    "Heatsink Sales, Revenue, Average Selling Price and Gross Margin, market share (2015-2020)\n",
    "\n",
    "\n",
    "## EKWB  https://www.ekwb.com/solutions/all-in-one/\n",
    "Basics: \n",
    "Patent: Active tech count 71, 4 patents, 12 trademarks\n",
    "Product: Totaling 26 products, specifically 120mm, 240mm, 360mm\n",
    "Sales: \n",
    "Revenue:\n",
    "ASP: 120mm-90usd, 240mm-120usd, 360mm-155usd\n",
    "GM: \n",
    "\n",
    "\n",
    "\n",
    "## ASETEK\n",
    "Basics: \n",
    "Patent: \n",
    "Product:  cpu cooler, gpu cooler, others asetek based liquid AIO coolers(recommended by AMD)\n",
    "Sales:\n",
    "Revenue:\n",
    "ASP: Asetek 690LX-PN Liquid Cooler-400usd, Asetek 645LT 92mm Performance Liquid CPU Cooler -99usd(suggested pairing with Noctua fans). Asetek 550LC 120mm AIO cooler-58usd. \n",
    "GM: \n",
    "\n",
    "## COOLIT\n",
    "Basics: C round for $10M\n",
    "Patent:Active tech count 29(including mobile compatibility), 5 patents, 8 trademarks\n",
    "Product: active 20, mainly developed for OEM and enterprise. End users are directed to corsair.\n",
    "Sales:\n",
    "Revenue:\n",
    "ASP:\n",
    "GM: \n",
    "\n",
    "\n",
    "## ALPHACOOL  https://www.alphacool.com/cat/index/sCategory/20542?p=1\n",
    "Basics:\n",
    "Patent: active tech count 28, 2 trademarks\n",
    "Product: mainly copper radiators, AIO solutions.\n",
    "Sales:\n",
    "Revenue:\n",
    "ASP:\n",
    "GM: \n",
    "\n",
    "## COOLER MASTER  https://www.coolermaster.com/catalog/coolers/#!/\n",
    "Basics: \n",
    "Patent: 80 tech count, 68 patents in 'heat exchange in general', \n",
    "Product: active 32. \n",
    "Sales: \n",
    "Revenue:\n",
    "ASP: 12-15 dollars\n",
    "GM: \n",
    "\n",
    "## NOCTUA\n",
    "Basics:\n",
    "Patent:\n",
    "Product:\n",
    "Sales:\n",
    "Revenue:\n",
    "ASP:\n",
    "GM: \n",
    "\n",
    "\n",
    "## Corsair\n",
    "Basics:\n",
    "Patent:\n",
    "Product:\n",
    "Sales:\n",
    "Revenue:\n",
    "ASP:\n",
    "GM: \n",
    "\n",
    "## Inwin\n",
    "Sales:\n",
    "Revenue:\n",
    "ASP:\n",
    "GM: \n",
    "\n",
    "## NZXT\n",
    "Basics: \n",
    "Patent: 107 tech count, 15 patents, 14 trademarks, \n",
    "Product: 33 active. \n",
    "Sales:\n",
    "Revenue:\n",
    "ASP:\n",
    "GM: \n",
    "\n",
    "## Deepcool\n",
    "Sales:\n",
    "Revenue:\n",
    "ASP:\n",
    "GM: \n",
    "\n",
    "## Thermaltake\n",
    "Basics: \n",
    "Patent: 30 tech count,\n",
    "Product: \n",
    "Sales:\n",
    "Revenue:\n",
    "ASP:\n",
    "GM: \n",
    "\n",
    "\n",
    "Reference: Crunchbase, \n",
    "\n"
   ]
  },
  {
   "cell_type": "code",
   "execution_count": null,
   "metadata": {},
   "outputs": [],
   "source": []
  },
  {
   "cell_type": "markdown",
   "metadata": {},
   "source": [
    "Geographical analysis of Heat Sinks Market:\n",
    "North America\n",
    "U.S.A\n",
    "Canada\n",
    "\n",
    "\n",
    "Europe\n",
    "France\n",
    "Germany\n",
    "Spain\n",
    "UK\n",
    "Rest of Europe\n",
    "\n",
    "\n",
    "Asia Pacific\n",
    "China\n",
    "Japan\n",
    "India\n",
    "South East Asia\n",
    "\n",
    "\n",
    "Latin America\n",
    "Brazil\n",
    "Middle East and Africa"
   ]
  },
  {
   "cell_type": "markdown",
   "metadata": {},
   "source": [
    "# Comprehensive Analysis\n",
    "Market Forecast for 2018-26\n",
    "Market growth drivers\n",
    "Challenges and Opportunities\n",
    "Emerging and Current market trends\n",
    "Market player Capacity, Production, Revenue (Value)\n",
    "Supply (Production), Consumption, Export, Import analysis\n",
    "End user/application Analysis"
   ]
  },
  {
   "cell_type": "markdown",
   "metadata": {},
   "source": [
    "# Total love Conservation theory\n",
    "so we start from a niche market, and let expand be another story."
   ]
  },
  {
   "cell_type": "markdown",
   "metadata": {},
   "source": [
    "## Niche Market"
   ]
  },
  {
   "cell_type": "markdown",
   "metadata": {},
   "source": [
    "## Timeline and Strategy"
   ]
  },
  {
   "cell_type": "markdown",
   "metadata": {},
   "source": [
    "## Pricing"
   ]
  },
  {
   "cell_type": "markdown",
   "metadata": {},
   "source": [
    "## Batch Size"
   ]
  },
  {
   "cell_type": "code",
   "execution_count": null,
   "metadata": {},
   "outputs": [],
   "source": []
  }
 ],
 "metadata": {
  "kernelspec": {
   "display_name": "Python 3",
   "language": "python",
   "name": "python3"
  },
  "language_info": {
   "codemirror_mode": {
    "name": "ipython",
    "version": 3
   },
   "file_extension": ".py",
   "mimetype": "text/x-python",
   "name": "python",
   "nbconvert_exporter": "python",
   "pygments_lexer": "ipython3",
   "version": "3.7.1"
  }
 },
 "nbformat": 4,
 "nbformat_minor": 2
}
