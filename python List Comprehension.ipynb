{
 "cells": [
  {
   "cell_type": "code",
   "execution_count": null,
   "metadata": {},
   "outputs": [],
   "source": [
    "#List comprehension\n",
    "#Efficiency\n",
    "#Applications in DS"
   ]
  },
  {
   "cell_type": "code",
   "execution_count": null,
   "metadata": {},
   "outputs": [],
   "source": [
    "#List comprehension\n",
    "list_var=[x for x in iterable if condition]\n",
    "dic_var={key:value for (k,v) in zip(keys,values)} \n",
    "or dic(zip(keys,values))\n",
    "#compound data type, even list \n",
    "#sequence type, closely related to index, could be iterated"
   ]
  },
  {
   "cell_type": "code",
   "execution_count": 3,
   "metadata": {},
   "outputs": [
    {
     "ename": "TypeError",
     "evalue": "'int' object is not iterable",
     "output_type": "error",
     "traceback": [
      "\u001b[0;31m---------------------------------------------------------------------------\u001b[0m",
      "\u001b[0;31mTypeError\u001b[0m                                 Traceback (most recent call last)",
      "\u001b[0;32m<ipython-input-3-ef3f5935e6e7>\u001b[0m in \u001b[0;36m<module>\u001b[0;34m\u001b[0m\n\u001b[1;32m      1\u001b[0m \u001b[0;31m#lambda function with map,filter and reduce\u001b[0m\u001b[0;34m\u001b[0m\u001b[0;34m\u001b[0m\u001b[0;34m\u001b[0m\u001b[0m\n\u001b[0;32m----> 2\u001b[0;31m \u001b[0mres\u001b[0m\u001b[0;34m=\u001b[0m\u001b[0mmap\u001b[0m\u001b[0;34m(\u001b[0m\u001b[0;32mlambda\u001b[0m \u001b[0mx\u001b[0m\u001b[0;34m:\u001b[0m\u001b[0mx\u001b[0m\u001b[0;34m**\u001b[0m\u001b[0;36m2\u001b[0m\u001b[0;34m,\u001b[0m\u001b[0;36m1\u001b[0m\u001b[0;34m)\u001b[0m     \u001b[0;31m#map always gives you a transformed list with same size\u001b[0m\u001b[0;34m\u001b[0m\u001b[0;34m\u001b[0m\u001b[0m\n\u001b[0m\u001b[1;32m      3\u001b[0m \u001b[0;31m#equivalent to\u001b[0m\u001b[0;34m\u001b[0m\u001b[0;34m\u001b[0m\u001b[0;34m\u001b[0m\u001b[0m\n\u001b[1;32m      4\u001b[0m \u001b[0mres\u001b[0m\u001b[0;34m=\u001b[0m\u001b[0;34m[\u001b[0m\u001b[0mx\u001b[0m\u001b[0;34m**\u001b[0m\u001b[0;36m2\u001b[0m \u001b[0;32mfor\u001b[0m \u001b[0mx\u001b[0m \u001b[0;32min\u001b[0m \u001b[0mrange\u001b[0m\u001b[0;34m(\u001b[0m\u001b[0;36m10\u001b[0m\u001b[0;34m)\u001b[0m\u001b[0;34m]\u001b[0m\u001b[0;34m\u001b[0m\u001b[0;34m\u001b[0m\u001b[0m\n\u001b[1;32m      5\u001b[0m \u001b[0;31m#the result of reduce usually is not a collection, then LC does not apply here\u001b[0m\u001b[0;34m\u001b[0m\u001b[0;34m\u001b[0m\u001b[0;34m\u001b[0m\u001b[0m\n",
      "\u001b[0;31mTypeError\u001b[0m: 'int' object is not iterable"
     ]
    }
   ],
   "source": [
    "#lambda function with map,filter and reduce\n",
    "res=map(lambda x:x**2,1)     #map always gives you a transformed list with same size\n",
    "#equivalent to\n",
    "res=[x**2 for x in range(10)]\n",
    "#the result of reduce usually is not a collection, then LC does not apply here"
   ]
  },
  {
   "cell_type": "code",
   "execution_count": 4,
   "metadata": {},
   "outputs": [
    {
     "data": {
      "text/plain": [
       "[1, 2, 3, 4, 5, 6, 7, 8, 9]"
      ]
     },
     "execution_count": 4,
     "metadata": {},
     "output_type": "execute_result"
    }
   ],
   "source": [
    "#Nested list comprehension \n",
    "1. list of lists 2. generating matrix 3. transposing matrix 4. flattening matrix\n",
    "list_of_list=[[1,2,3],[4,5,6],[7,8,9]]\n",
    "[y for x in list_of_list for y in x] \n",
    "matrix=[[1,2,3],[4,5,6],[7,8,9]]\n",
    "[[row[i] for row in matrix] for i in range(3)]"
   ]
  },
  {
   "cell_type": "code",
   "execution_count": 7,
   "metadata": {},
   "outputs": [
    {
     "data": {
      "text/plain": [
       "[[0, 0, 0, 0], [0, 0, 0, 0], [0, 0, 0, 0]]"
      ]
     },
     "execution_count": 7,
     "metadata": {},
     "output_type": "execute_result"
    }
   ],
   "source": [
    "#initialize zero matrix with row and col \n",
    "row=3;col=4\n",
    "m=[[0 for c in range(col) ] for r in range(row)]\n",
    "m"
   ]
  },
  {
   "cell_type": "code",
   "execution_count": null,
   "metadata": {},
   "outputs": [],
   "source": [
    "#generate a triangle matrix\n",
    "n=4\n",
    "m=[]\n",
    "[[0 for j in range(i+1)] for i in range(n)]\n",
    "#alternative\n",
    "[[0]*(i+1) for i in range(n)]"
   ]
  },
  {
   "cell_type": "code",
   "execution_count": null,
   "metadata": {},
   "outputs": [],
   "source": [
    "#Efficiency\n",
    "%timeit \n",
    "#loop>map>LC\n",
    "#we can replace res.append as a new variable, thus improve efficiency"
   ]
  },
  {
   "cell_type": "code",
   "execution_count": null,
   "metadata": {},
   "outputs": [],
   "source": [
    "#Generator\n",
    "#A generator is an iterator but it returns a single value at a time on different calls. The object is dropped once it is yielded\n",
    "def my_first_gen(n):\n",
    "    for i in range(n):\n",
    "        yield i\n",
    "print(gen.__next__()) \n",
    "#A generator can be treated as an iterator such as a list . sum(gen)\n",
    "(x for x in range(10)) #this is a generator not LC which largely releases RAM\n"
   ]
  },
  {
   "cell_type": "code",
   "execution_count": null,
   "metadata": {},
   "outputs": [],
   "source": [
    "#How to choose between generator and LC\n",
    "#1. iterate over many times(LC)\n",
    "#2. length is huge(gen)\n",
    "#3. length infinite or indefinite(ge)\n",
    "#4. list methods needed(LC)\n",
    "\n",
    "#Use cases:\n",
    "#1. find all lines that start with error in 2TB file(ge)\n",
    "#2.scrape all comments and do analysis from a product on amazon(data is a pipeline so we use ge)"
   ]
  },
  {
   "cell_type": "code",
   "execution_count": null,
   "metadata": {},
   "outputs": [],
   "source": [
    "#Applications in DS\n",
    "#update((gen))\n",
    "#tagging [[1 if skill in row else 0 for skill in skills_uniq] for row in data['skill_list']]\n",
    "#filtering feature column names. \n",
    "set1=[x for x in  cols if x.endswith('transform ')]\n"
   ]
  }
 ],
 "metadata": {
  "kernelspec": {
   "display_name": "Python 3",
   "language": "python",
   "name": "python3"
  },
  "language_info": {
   "codemirror_mode": {
    "name": "ipython",
    "version": 3
   },
   "file_extension": ".py",
   "mimetype": "text/x-python",
   "name": "python",
   "nbconvert_exporter": "python",
   "pygments_lexer": "ipython3",
   "version": "3.7.1"
  }
 },
 "nbformat": 4,
 "nbformat_minor": 2
}
