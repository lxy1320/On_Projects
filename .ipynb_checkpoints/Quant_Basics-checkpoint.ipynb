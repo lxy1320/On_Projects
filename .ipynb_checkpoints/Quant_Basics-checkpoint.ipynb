{
 "cells": [
  {
   "cell_type": "code",
   "execution_count": 2,
   "metadata": {},
   "outputs": [],
   "source": [
    "import random\n",
    "import numpy as np\n",
    "import sys\n",
    "import pandas as pd\n",
    "import datetime\n",
    "import matplotlib.pyplot as plt\n",
    "import mplfinance as fin\n",
    "from matplotlib.dates import date2num\n",
    "import tushare as ts"
   ]
  },
  {
   "cell_type": "code",
   "execution_count": 13,
   "metadata": {},
   "outputs": [
    {
     "data": {
      "text/plain": [
       "array([[1., 0., 0., 0., 0., 0., 0., 0., 0., 0.],\n",
       "       [0., 1., 0., 0., 0., 0., 0., 0., 0., 0.],\n",
       "       [0., 0., 1., 0., 0., 0., 0., 0., 0., 0.],\n",
       "       [0., 0., 0., 1., 0., 0., 0., 0., 0., 0.],\n",
       "       [0., 0., 0., 0., 1., 0., 0., 0., 0., 0.],\n",
       "       [0., 0., 0., 0., 0., 1., 0., 0., 0., 0.],\n",
       "       [0., 0., 0., 0., 0., 0., 1., 0., 0., 0.],\n",
       "       [0., 0., 0., 0., 0., 0., 0., 1., 0., 0.],\n",
       "       [0., 0., 0., 0., 0., 0., 0., 0., 1., 0.],\n",
       "       [0., 0., 0., 0., 0., 0., 0., 0., 0., 1.]])"
      ]
     },
     "execution_count": 13,
     "metadata": {},
     "output_type": "execute_result"
    }
   ],
   "source": [
    "#nd array review\n",
    "#创建array\n",
    "a=np.zeros(10)\n",
    "a.dtype\n",
    "np.empty(100)#random array\n",
    "np.arange(2,10,0.3) #step size is 0.3, defualt step size is 1\n",
    "np.linspace(0,100,101)#101 is array length which can be denoted by user\n",
    "np.eye(10) #diagonal matrix"
   ]
  },
  {
   "cell_type": "code",
   "execution_count": 36,
   "metadata": {},
   "outputs": [],
   "source": [
    "#nd array 索引和切片\n",
    "#a+b\n",
    "#a>b\n",
    "a=np.arange(15).reshape((3,5)) # 2d arrary\n",
    "a[0][0]\n",
    "a[0,0]\n",
    "#difference between list and arrary\n",
    "a=np.array(10)\n",
    "b=list(range(10))\n",
    "#c=a[0:4]\n",
    "d=b[0:4]\n",
    "#c[0]=20\n",
    "d[0]=20\n",
    "#slicing an array is to make a projection(changing the copy will change the array itself) while slicing a list is making a copy(changing the copy \n",
    "#will not change the list itself)\n",
    "#列表是浅拷贝，数组是赋值\n",
    "a[0:2,0:2] #get value from rows and columns"
   ]
  },
  {
   "cell_type": "code",
   "execution_count": 42,
   "metadata": {},
   "outputs": [
    {
     "data": {
      "text/plain": [
       "array([10,  9,  8,  8, 10,  2,  7,  9,  4,  9,  2])"
      ]
     },
     "execution_count": 42,
     "metadata": {},
     "output_type": "execute_result"
    }
   ],
   "source": [
    "#布尔索引\n",
    "a=[random.randint(0,10) for i in range(20)]\n",
    "filter(lambda x:x>5,a)\n",
    "a=np.array(a)\n",
    "a[a>5]\n",
    "#& and difference\n",
    "#&是一个位运算符，运算优先级比较高 因此在多个条件并行时，每个条件记得括起来\n",
    "a[(a>5)&(a%2==0)]\n",
    "a[(a>5)| (a%2==0)]"
   ]
  },
  {
   "cell_type": "code",
   "execution_count": 48,
   "metadata": {},
   "outputs": [
    {
     "data": {
      "text/plain": [
       "array([ 6, 18])"
      ]
     },
     "execution_count": 48,
     "metadata": {},
     "output_type": "execute_result"
    }
   ],
   "source": [
    "#花式索引\n",
    "#一维数组\n",
    "a=np.arange(20)\n",
    "a[[1,3,4,6,7]]\n",
    "#高维数组\n",
    "a=np.arange(20).reshape(4,5)\n",
    "a[0,2:3]\n",
    "a[0,a[0]>2]\n",
    "a[[1,3],[1,3]]#take [1,1] value and [3,3] value from a\n",
    "a[[1,3],:] #slicing first and third row with all columns\n",
    "a[[1:3],:][:,[1,3]] #slicing row first(row 1 and 3) and keep all columns , then slicing columns(col 1 and 3) and keep all rows"
   ]
  },
  {
   "cell_type": "code",
   "execution_count": 61,
   "metadata": {},
   "outputs": [
    {
     "ename": "NameError",
     "evalue": "name 'floor' is not defined",
     "output_type": "error",
     "traceback": [
      "\u001b[0;31m---------------------------------------------------------------------------\u001b[0m",
      "\u001b[0;31mNameError\u001b[0m                                 Traceback (most recent call last)",
      "\u001b[0;32m<ipython-input-61-7e8ac8cb977c>\u001b[0m in \u001b[0;36m<module>\u001b[0;34m\u001b[0m\n\u001b[1;32m      2\u001b[0m \u001b[0ma\u001b[0m\u001b[0;34m=\u001b[0m\u001b[0;36m1.6\u001b[0m\u001b[0;34m\u001b[0m\u001b[0;34m\u001b[0m\u001b[0m\n\u001b[1;32m      3\u001b[0m \u001b[0mint\u001b[0m\u001b[0;34m(\u001b[0m\u001b[0ma\u001b[0m\u001b[0;34m)\u001b[0m \u001b[0;31m#向数轴上零的方向取整\u001b[0m\u001b[0;34m\u001b[0m\u001b[0;34m\u001b[0m\u001b[0m\n\u001b[0;32m----> 4\u001b[0;31m \u001b[0mfloor\u001b[0m\u001b[0;34m(\u001b[0m\u001b[0ma\u001b[0m\u001b[0;34m)\u001b[0m \u001b[0;31m#向下取整\u001b[0m\u001b[0;34m\u001b[0m\u001b[0;34m\u001b[0m\u001b[0m\n\u001b[0m\u001b[1;32m      5\u001b[0m \u001b[0mceil\u001b[0m\u001b[0;34m(\u001b[0m\u001b[0ma\u001b[0m\u001b[0;34m)\u001b[0m \u001b[0;31m#向上取整\u001b[0m\u001b[0;34m\u001b[0m\u001b[0;34m\u001b[0m\u001b[0m\n\u001b[1;32m      6\u001b[0m \u001b[0mround\u001b[0m\u001b[0;34m(\u001b[0m\u001b[0ma\u001b[0m\u001b[0;34m)\u001b[0m \u001b[0;31m#四舍五入\u001b[0m\u001b[0;34m\u001b[0m\u001b[0;34m\u001b[0m\u001b[0m\n",
      "\u001b[0;31mNameError\u001b[0m: name 'floor' is not defined"
     ]
    }
   ],
   "source": [
    "#通用函数 abs sqrt ceil float\n",
    "a=1.6\n",
    "int(a) #向数轴上零的方向取整\n",
    "floor(a) #向下取整\n",
    "ceil(a) #向上取整\n",
    "round(a) #四舍五入\n",
    "a=np.arange(-5.5,5.5)\n",
    "#np.floor(a)"
   ]
  },
  {
   "cell_type": "code",
   "execution_count": 67,
   "metadata": {},
   "outputs": [
    {
     "data": {
      "text/plain": [
       "True"
      ]
     },
     "execution_count": 67,
     "metadata": {},
     "output_type": "execute_result"
    }
   ],
   "source": [
    "a=np.arange(-5.5,5.5)\n",
    "np.modf(a) #seperate int part and decimal part of the array\n",
    "#isnan special float, it does not equal to any existing float(including nan itself)\n",
    "float('nan')\n",
    "np.nan==np.nan\n",
    "#isinf special float, bigger than any other float(but equal to itself)\n",
    "np.inf==np.inf"
   ]
  },
  {
   "cell_type": "code",
   "execution_count": 80,
   "metadata": {},
   "outputs": [
    {
     "data": {
      "text/plain": [
       "array([2.77649497, 2.20361882, 3.28979534, 2.22876002, 2.91326936,\n",
       "       2.32943863, 2.5258496 , 3.77748749, 2.92369837, 3.0683841 ])"
      ]
     },
     "execution_count": 80,
     "metadata": {},
     "output_type": "execute_result"
    }
   ],
   "source": [
    "#numpy统计方法和随时数\n",
    "#a.var()\n",
    "#a.std() #95% falls in +-2 std\n",
    "#a.argmax() #return index of max value\n",
    "random.choice([1,3,4,5])\n",
    "a=[1,3,4,5]\n",
    "random.shuffle(a)\n",
    "np.random.randint(0,10,(3,5,4)) #np array shape is defined\n",
    "np.random.uniform(2,4,10) #a uniform distribution from 2 to 4, 10 samples"
   ]
  },
  {
   "cell_type": "code",
   "execution_count": 93,
   "metadata": {},
   "outputs": [
    {
     "data": {
      "text/plain": [
       "a    1\n",
       "b    2\n",
       "dtype: int64"
      ]
     },
     "execution_count": 93,
     "metadata": {},
     "output_type": "execute_result"
    }
   ],
   "source": [
    "#series (pandas 数据包）\n",
    "sr=pd.Series([2,3,4,5],index=['a','b','c','d'])\n",
    "#a combination of ararry and dictionary\n",
    "#支持列表的特性：1. Series(arrary) 2. 标量运算 3. slicing by index \n",
    "sr[0]\n",
    "sr+sr\n",
    "sr[0:2]\n",
    "sr[sr>0]\n",
    "#支持字典的特性 1. Series(dic) 2. in 运算 3. slicing by key =\n",
    "sr=pd.Series({'a':1, 'b':2})\n",
    "sr['a']\n",
    "'a' in sr\n",
    "sr.index\n",
    "sr.values\n",
    "sr[['a','b']]\n",
    "sr['a':'c']"
   ]
  },
  {
   "cell_type": "code",
   "execution_count": 104,
   "metadata": {},
   "outputs": [
    {
     "data": {
      "text/plain": [
       "19"
      ]
     },
     "execution_count": 104,
     "metadata": {},
     "output_type": "execute_result"
    }
   ],
   "source": [
    "#series整数索引\n",
    "sr=pd.Series(np.arange(20))\n",
    "sr2=sr[10:].copy()\n",
    "sr2.loc[10] #inside loc intepret as label\n",
    "sr2.iloc[9] # inside of iloc intepret as index"
   ]
  },
  {
   "cell_type": "code",
   "execution_count": 108,
   "metadata": {},
   "outputs": [
    {
     "data": {
      "text/plain": [
       "a    33\n",
       "c    32\n",
       "d    45\n",
       "dtype: int64"
      ]
     },
     "execution_count": 108,
     "metadata": {},
     "output_type": "execute_result"
    }
   ],
   "source": [
    "#series数据对齐\n",
    "sr1=pd.Series([12,23,34],index=['c','a','d'])\n",
    "sr2=pd.Series([11,20,10], index=['d','c','a'])\n",
    "sr1+sr2 #adding by labels and orderd by alphabet\n",
    "#if there is no corresponding label, nan will be introduced as missing value\n",
    "sr1.add(sr2,fill_value=0)"
   ]
  },
  {
   "cell_type": "code",
   "execution_count": 114,
   "metadata": {},
   "outputs": [
    {
     "data": {
      "text/plain": [
       "0      0\n",
       "1      1\n",
       "2      2\n",
       "3      3\n",
       "4      4\n",
       "5      5\n",
       "6      6\n",
       "7      7\n",
       "8      8\n",
       "9      9\n",
       "10    10\n",
       "11    11\n",
       "12    12\n",
       "13    13\n",
       "14    14\n",
       "15    15\n",
       "16    16\n",
       "17    17\n",
       "18    18\n",
       "19    19\n",
       "dtype: int64"
      ]
     },
     "execution_count": 114,
     "metadata": {},
     "output_type": "execute_result"
    }
   ],
   "source": [
    "#series缺失值处理以及小结\n",
    "sr.isnull()\n",
    "sr.notnull()\n",
    "sr[sr.notnull()]\n",
    "sr.dropna()\n",
    "sr=sr.fillna(sr.mean())# need to save after filling\n",
    "sr.mean() # will skip nan in 1st place"
   ]
  },
  {
   "cell_type": "code",
   "execution_count": 143,
   "metadata": {},
   "outputs": [],
   "source": [
    "#DF的创建\n",
    "#可以看作是series组成的字典, 公用一套索引\n",
    "df=pd.DataFrame({'one':[1,2,3], 'two': [4,5,6]}, index=['a','b','c'])\n",
    "df.to_csv('test2.csv')"
   ]
  },
  {
   "cell_type": "code",
   "execution_count": 126,
   "metadata": {},
   "outputs": [
    {
     "data": {
      "text/html": [
       "<div>\n",
       "<style scoped>\n",
       "    .dataframe tbody tr th:only-of-type {\n",
       "        vertical-align: middle;\n",
       "    }\n",
       "\n",
       "    .dataframe tbody tr th {\n",
       "        vertical-align: top;\n",
       "    }\n",
       "\n",
       "    .dataframe thead th {\n",
       "        text-align: right;\n",
       "    }\n",
       "</style>\n",
       "<table border=\"1\" class=\"dataframe\">\n",
       "  <thead>\n",
       "    <tr style=\"text-align: right;\">\n",
       "      <th></th>\n",
       "      <th>one</th>\n",
       "      <th>two</th>\n",
       "    </tr>\n",
       "  </thead>\n",
       "  <tbody>\n",
       "    <tr>\n",
       "      <th>count</th>\n",
       "      <td>3.0</td>\n",
       "      <td>3.0</td>\n",
       "    </tr>\n",
       "    <tr>\n",
       "      <th>mean</th>\n",
       "      <td>2.0</td>\n",
       "      <td>5.0</td>\n",
       "    </tr>\n",
       "    <tr>\n",
       "      <th>std</th>\n",
       "      <td>1.0</td>\n",
       "      <td>1.0</td>\n",
       "    </tr>\n",
       "    <tr>\n",
       "      <th>min</th>\n",
       "      <td>1.0</td>\n",
       "      <td>4.0</td>\n",
       "    </tr>\n",
       "    <tr>\n",
       "      <th>25%</th>\n",
       "      <td>1.5</td>\n",
       "      <td>4.5</td>\n",
       "    </tr>\n",
       "    <tr>\n",
       "      <th>50%</th>\n",
       "      <td>2.0</td>\n",
       "      <td>5.0</td>\n",
       "    </tr>\n",
       "    <tr>\n",
       "      <th>75%</th>\n",
       "      <td>2.5</td>\n",
       "      <td>5.5</td>\n",
       "    </tr>\n",
       "    <tr>\n",
       "      <th>max</th>\n",
       "      <td>3.0</td>\n",
       "      <td>6.0</td>\n",
       "    </tr>\n",
       "  </tbody>\n",
       "</table>\n",
       "</div>"
      ],
      "text/plain": [
       "       one  two\n",
       "count  3.0  3.0\n",
       "mean   2.0  5.0\n",
       "std    1.0  1.0\n",
       "min    1.0  4.0\n",
       "25%    1.5  4.5\n",
       "50%    2.0  5.0\n",
       "75%    2.5  5.5\n",
       "max    3.0  6.0"
      ]
     },
     "execution_count": 126,
     "metadata": {},
     "output_type": "execute_result"
    }
   ],
   "source": [
    "#df常用属性\n",
    "df.index # row index\n",
    "df.columns # column index\n",
    "df.values #2d array\n",
    "df.T  #invert row index and column index (column will have the same dtype, after converting, dtype will be unified by certain precedence rule)\n",
    "df.describe()"
   ]
  },
  {
   "cell_type": "code",
   "execution_count": 138,
   "metadata": {},
   "outputs": [
    {
     "data": {
      "text/html": [
       "<div>\n",
       "<style scoped>\n",
       "    .dataframe tbody tr th:only-of-type {\n",
       "        vertical-align: middle;\n",
       "    }\n",
       "\n",
       "    .dataframe tbody tr th {\n",
       "        vertical-align: top;\n",
       "    }\n",
       "\n",
       "    .dataframe thead th {\n",
       "        text-align: right;\n",
       "    }\n",
       "</style>\n",
       "<table border=\"1\" class=\"dataframe\">\n",
       "  <thead>\n",
       "    <tr style=\"text-align: right;\">\n",
       "      <th></th>\n",
       "      <th>one</th>\n",
       "      <th>two</th>\n",
       "    </tr>\n",
       "  </thead>\n",
       "  <tbody>\n",
       "    <tr>\n",
       "      <th>a</th>\n",
       "      <td>1</td>\n",
       "      <td>4</td>\n",
       "    </tr>\n",
       "    <tr>\n",
       "      <th>b</th>\n",
       "      <td>2</td>\n",
       "      <td>5</td>\n",
       "    </tr>\n",
       "  </tbody>\n",
       "</table>\n",
       "</div>"
      ],
      "text/plain": [
       "   one  two\n",
       "a    1    4\n",
       "b    2    5"
      ]
     },
     "execution_count": 138,
     "metadata": {},
     "output_type": "execute_result"
    }
   ],
   "source": [
    "#df索引和切片\n",
    "\n",
    "df['one']['a'] #first column then row,bad syntax\n",
    "df.loc['a','one'] #指定取标签，之后先行后列，推荐用法，较为清晰\n",
    "df.loc[['a','b'], :] # get multiple rows"
   ]
  },
  {
   "cell_type": "code",
   "execution_count": 156,
   "metadata": {},
   "outputs": [
    {
     "data": {
      "text/html": [
       "<div>\n",
       "<style scoped>\n",
       "    .dataframe tbody tr th:only-of-type {\n",
       "        vertical-align: middle;\n",
       "    }\n",
       "\n",
       "    .dataframe tbody tr th {\n",
       "        vertical-align: top;\n",
       "    }\n",
       "\n",
       "    .dataframe thead th {\n",
       "        text-align: right;\n",
       "    }\n",
       "</style>\n",
       "<table border=\"1\" class=\"dataframe\">\n",
       "  <thead>\n",
       "    <tr style=\"text-align: right;\">\n",
       "      <th></th>\n",
       "      <th>two</th>\n",
       "    </tr>\n",
       "  </thead>\n",
       "  <tbody>\n",
       "    <tr>\n",
       "      <th>a</th>\n",
       "      <td>4</td>\n",
       "    </tr>\n",
       "    <tr>\n",
       "      <th>b</th>\n",
       "      <td>5</td>\n",
       "    </tr>\n",
       "    <tr>\n",
       "      <th>c</th>\n",
       "      <td>6</td>\n",
       "    </tr>\n",
       "  </tbody>\n",
       "</table>\n",
       "</div>"
      ],
      "text/plain": [
       "   two\n",
       "a    4\n",
       "b    5\n",
       "c    6"
      ]
     },
     "execution_count": 156,
     "metadata": {},
     "output_type": "execute_result"
    }
   ],
   "source": [
    "#df数据对齐与缺失数据处理\n",
    "df2=pd.DataFrame({'two':[1,2,3,4],'one': [4,5,6,7]}, index=['c','d','b','a'])\n",
    "df3=df+df2 \n",
    "#df3.dropna() #it will delete all rows with as least one nan\n",
    "df3.dropna(how='all') #it will only delete rows when all are nan\n",
    "df.loc['c','one']=np.nan\n",
    "df.dropna(axis=1) #it can specify row 1 or column 0, default by column "
   ]
  },
  {
   "cell_type": "code",
   "execution_count": 162,
   "metadata": {},
   "outputs": [
    {
     "data": {
      "text/html": [
       "<div>\n",
       "<style scoped>\n",
       "    .dataframe tbody tr th:only-of-type {\n",
       "        vertical-align: middle;\n",
       "    }\n",
       "\n",
       "    .dataframe tbody tr th {\n",
       "        vertical-align: top;\n",
       "    }\n",
       "\n",
       "    .dataframe thead th {\n",
       "        text-align: right;\n",
       "    }\n",
       "</style>\n",
       "<table border=\"1\" class=\"dataframe\">\n",
       "  <thead>\n",
       "    <tr style=\"text-align: right;\">\n",
       "      <th></th>\n",
       "      <th>two</th>\n",
       "      <th>one</th>\n",
       "    </tr>\n",
       "  </thead>\n",
       "  <tbody>\n",
       "    <tr>\n",
       "      <th>a</th>\n",
       "      <td>4</td>\n",
       "      <td>1.0</td>\n",
       "    </tr>\n",
       "    <tr>\n",
       "      <th>b</th>\n",
       "      <td>5</td>\n",
       "      <td>2.0</td>\n",
       "    </tr>\n",
       "    <tr>\n",
       "      <th>c</th>\n",
       "      <td>6</td>\n",
       "      <td>NaN</td>\n",
       "    </tr>\n",
       "  </tbody>\n",
       "</table>\n",
       "</div>"
      ],
      "text/plain": [
       "   two  one\n",
       "a    4  1.0\n",
       "b    5  2.0\n",
       "c    6  NaN"
      ]
     },
     "execution_count": 162,
     "metadata": {},
     "output_type": "execute_result"
    }
   ],
   "source": [
    "#pandas常用函数\n",
    "#include all numpy funcs\n",
    "#PLUS\n",
    "df.mean() #returns a series object\n",
    "df.mean(axis=1)\n",
    "df.sort_values(by='two',ascending=False)\n",
    "df.sort_index(ascending=False,axis=1)"
   ]
  },
  {
   "cell_type": "code",
   "execution_count": 167,
   "metadata": {},
   "outputs": [
    {
     "data": {
      "text/plain": [
       "DatetimeIndex(['2020-04-15'], dtype='datetime64[ns]', freq=None)"
      ]
     },
     "execution_count": 167,
     "metadata": {},
     "output_type": "execute_result"
    }
   ],
   "source": [
    "#时间处理对象 datetime library\n",
    "datetime.datetime.strptime('2020-04-15','%Y-%m-%d')\n",
    "#dateutil.parser.parse('2020-4-15')\n",
    "pd.to_datetime(['2020-04-15'])"
   ]
  },
  {
   "cell_type": "code",
   "execution_count": 174,
   "metadata": {},
   "outputs": [
    {
     "data": {
      "text/plain": [
       "DatetimeIndex(['2010-01-01 00:00:00', '2010-01-01 01:00:00',\n",
       "               '2010-01-01 02:00:00', '2010-01-01 03:00:00',\n",
       "               '2010-01-01 04:00:00', '2010-01-01 05:00:00',\n",
       "               '2010-01-01 06:00:00', '2010-01-01 07:00:00',\n",
       "               '2010-01-01 08:00:00', '2010-01-01 09:00:00',\n",
       "               '2010-01-01 10:00:00', '2010-01-01 11:00:00',\n",
       "               '2010-01-01 12:00:00', '2010-01-01 13:00:00',\n",
       "               '2010-01-01 14:00:00', '2010-01-01 15:00:00',\n",
       "               '2010-01-01 16:00:00', '2010-01-01 17:00:00',\n",
       "               '2010-01-01 18:00:00', '2010-01-01 19:00:00',\n",
       "               '2010-01-01 20:00:00', '2010-01-01 21:00:00',\n",
       "               '2010-01-01 22:00:00', '2010-01-01 23:00:00',\n",
       "               '2010-01-02 00:00:00', '2010-01-02 01:00:00',\n",
       "               '2010-01-02 02:00:00', '2010-01-02 03:00:00',\n",
       "               '2010-01-02 04:00:00', '2010-01-02 05:00:00',\n",
       "               '2010-01-02 06:00:00', '2010-01-02 07:00:00',\n",
       "               '2010-01-02 08:00:00', '2010-01-02 09:00:00',\n",
       "               '2010-01-02 10:00:00', '2010-01-02 11:00:00',\n",
       "               '2010-01-02 12:00:00', '2010-01-02 13:00:00',\n",
       "               '2010-01-02 14:00:00', '2010-01-02 15:00:00',\n",
       "               '2010-01-02 16:00:00', '2010-01-02 17:00:00',\n",
       "               '2010-01-02 18:00:00', '2010-01-02 19:00:00',\n",
       "               '2010-01-02 20:00:00', '2010-01-02 21:00:00',\n",
       "               '2010-01-02 22:00:00', '2010-01-02 23:00:00',\n",
       "               '2010-01-03 00:00:00', '2010-01-03 01:00:00',\n",
       "               '2010-01-03 02:00:00', '2010-01-03 03:00:00',\n",
       "               '2010-01-03 04:00:00', '2010-01-03 05:00:00',\n",
       "               '2010-01-03 06:00:00', '2010-01-03 07:00:00',\n",
       "               '2010-01-03 08:00:00', '2010-01-03 09:00:00',\n",
       "               '2010-01-03 10:00:00', '2010-01-03 11:00:00'],\n",
       "              dtype='datetime64[ns]', freq='H')"
      ]
     },
     "execution_count": 174,
     "metadata": {},
     "output_type": "execute_result"
    }
   ],
   "source": [
    "#时间对象生成\n",
    "pd.date_range('2010-01-01','2010-05-01')\n",
    "pd.date_range('2010-01-01',periods=60,freq='H') #'B'"
   ]
  },
  {
   "cell_type": "code",
   "execution_count": 184,
   "metadata": {},
   "outputs": [
    {
     "data": {
      "text/plain": [
       "2010-02-03    33\n",
       "2010-02-04    34\n",
       "2010-02-05    35\n",
       "2010-02-06    36\n",
       "2010-02-07    37\n",
       "2010-02-08    38\n",
       "2010-02-09    39\n",
       "2010-02-10    40\n",
       "2010-02-11    41\n",
       "2010-02-12    42\n",
       "2010-02-13    43\n",
       "2010-02-14    44\n",
       "2010-02-15    45\n",
       "2010-02-16    46\n",
       "2010-02-17    47\n",
       "2010-02-18    48\n",
       "2010-02-19    49\n",
       "2010-02-20    50\n",
       "2010-02-21    51\n",
       "2010-02-22    52\n",
       "2010-02-23    53\n",
       "2010-02-24    54\n",
       "2010-02-25    55\n",
       "2010-02-26    56\n",
       "2010-02-27    57\n",
       "2010-02-28    58\n",
       "2010-03-01    59\n",
       "2010-03-02    60\n",
       "2010-03-03    61\n",
       "2010-03-04    62\n",
       "              ..\n",
       "2010-03-12    70\n",
       "2010-03-13    71\n",
       "2010-03-14    72\n",
       "2010-03-15    73\n",
       "2010-03-16    74\n",
       "2010-03-17    75\n",
       "2010-03-18    76\n",
       "2010-03-19    77\n",
       "2010-03-20    78\n",
       "2010-03-21    79\n",
       "2010-03-22    80\n",
       "2010-03-23    81\n",
       "2010-03-24    82\n",
       "2010-03-25    83\n",
       "2010-03-26    84\n",
       "2010-03-27    85\n",
       "2010-03-28    86\n",
       "2010-03-29    87\n",
       "2010-03-30    88\n",
       "2010-03-31    89\n",
       "2010-04-01    90\n",
       "2010-04-02    91\n",
       "2010-04-03    92\n",
       "2010-04-04    93\n",
       "2010-04-05    94\n",
       "2010-04-06    95\n",
       "2010-04-07    96\n",
       "2010-04-08    97\n",
       "2010-04-09    98\n",
       "2010-04-10    99\n",
       "Freq: D, Length: 67, dtype: int64"
      ]
     },
     "execution_count": 184,
     "metadata": {},
     "output_type": "execute_result"
    }
   ],
   "source": [
    "#时间序列\n",
    "pd.date_range('2010-01-01','2010-05-01')\n",
    "sr=pd.Series(np.arange(100),index=pd.date_range('2010-01-01',periods=100))\n",
    "sr.index\n",
    "sr['2010-03':'2010-04'] #slicing all data from march 2010 to April 2010\n",
    "sr.resample('W').sum() #sum by week\n",
    "sr.resample('M').sum()\n",
    "sr.truncate(before='2010-02-03') #inclusive of boundary"
   ]
  },
  {
   "cell_type": "code",
   "execution_count": null,
   "metadata": {},
   "outputs": [],
   "source": [
    "#文件读取操zuo\n",
    "read.csv(' ',index_col=0,parse_dates=True,header=None, names=list('abcdergh') )#default seperator as ,指定一列作为索引, parse_dates 可以把能转换的对象都转换成datetime\n",
    "read.table() #默认分隔符为制表符\n",
    "#na.value=['None','nan']把指定字符解释为缺失值，以避免其改变同列其他所有数值的属性\n",
    "#na.rep() 将缺失值解释为字符串"
   ]
  },
  {
   "cell_type": "code",
   "execution_count": 198,
   "metadata": {},
   "outputs": [
    {
     "name": "stderr",
     "output_type": "stream",
     "text": [
      "No handles with labels found to put in legend.\n"
     ]
    },
    {
     "data": {
      "image/png": "[encoded data removed]",
      "text/plain": [
       "<Figure size 432x288 with 1 Axes>"
      ]
     },
     "metadata": {
      "needs_background": "light"
     },
     "output_type": "display_data"
    }
   ],
   "source": [
    "#matplotlib\n",
    "plt.plot([1,2,3,4],[2,3,1,7], 'o--k') #dot line and color\n",
    "plt.plot([1,2,3,4],[2,3,1,7], 'o--b') \n",
    "#plt.title()\n",
    "#plt.xlabel()\n",
    "plt.xlim(0,5)\n",
    "plt.xticks(np.arange(0,11,2),['a','b','c','d','e','f'])\n",
    "plt.legend()\n",
    "plt.show() # one call of plt.show() will show all plots in one "
   ]
  },
  {
   "cell_type": "code",
   "execution_count": 204,
   "metadata": {},
   "outputs": [
    {
     "data": {
      "image/png": "[encoded data removed]",
      "text/plain": [
       "<Figure size 432x288 with 2 Axes>"
      ]
     },
     "metadata": {
      "needs_background": "light"
     },
     "output_type": "display_data"
    }
   ],
   "source": [
    "#画布与子图\n",
    "#df.plot()   df can be directly plotted\n",
    "#plt.show()\n",
    "#画布figure 子图subplot 调节子图间距subplots(left,bottom, right, top, wspace, hspace)\n",
    "fig=plt.figure()\n",
    "ax1=fig.add_subplot(2,1,1) # 2 rows, 2 columns, position 1\n",
    "ax1.plot([1,2,3,4],[5,6,7,8])\n",
    "ax2=fig.add_subplot(2,1,2)\n",
    "ax2.plot([1,2,3,4],[5,6,7,8])\n",
    "fig.show()"
   ]
  },
  {
   "cell_type": "code",
   "execution_count": 228,
   "metadata": {},
   "outputs": [
    {
     "data": {
      "image/png": "[encoded data removed]",
      "text/plain": [
       "<Figure size 432x288 with 1 Axes>"
      ]
     },
     "metadata": {
      "needs_background": "light"
     },
     "output_type": "display_data"
    },
    {
     "data": {
      "image/png": "[encoded data removed]",
      "text/plain": [
       "<Figure size 432x288 with 1 Axes>"
      ]
     },
     "metadata": {},
     "output_type": "display_data"
    }
   ],
   "source": [
    "#其他图类型 boxplot barh pie\n",
    "data=[32,48,21,100]\n",
    "labels=['jan','feb','mar','apr']\n",
    "plt.bar(np.arange(len(data)),data,color='orange',width=[0.1,0.2,0.3,0.4],align='edge')\n",
    "plt.xticks(np.arange(len(data)),labels)\n",
    "plt.show()\n",
    "\n",
    "plt.pie([10,20,30,40],autopct='%.2f%%',explode=[0,0,0.2,0])\n",
    "plt.axis('equal')\n",
    "plt.show()"
   ]
  },
  {
   "cell_type": "code",
   "execution_count": 7,
   "metadata": {},
   "outputs": [
    {
     "ename": "NameError",
     "evalue": "name 'fig' is not defined",
     "output_type": "error",
     "traceback": [
      "\u001b[0;31m---------------------------------------------------------------------------\u001b[0m",
      "\u001b[0;31mNameError\u001b[0m                                 Traceback (most recent call last)",
      "\u001b[0;32m<ipython-input-7-a33fef0535fb>\u001b[0m in \u001b[0;36m<module>\u001b[0;34m\u001b[0m\n\u001b[1;32m      1\u001b[0m \u001b[0;31m#绘制k线图\u001b[0m\u001b[0;34m\u001b[0m\u001b[0;34m\u001b[0m\u001b[0;34m\u001b[0m\u001b[0m\n\u001b[0;32m----> 2\u001b[0;31m \u001b[0mfig\u001b[0m\u001b[0;34m.\u001b[0m\u001b[0mplt\u001b[0m\u001b[0;34m.\u001b[0m\u001b[0mfigure\u001b[0m\u001b[0;34m(\u001b[0m\u001b[0;34m)\u001b[0m\u001b[0;34m\u001b[0m\u001b[0;34m\u001b[0m\u001b[0m\n\u001b[0m\u001b[1;32m      3\u001b[0m \u001b[0max\u001b[0m\u001b[0;34m=\u001b[0m\u001b[0mfig\u001b[0m\u001b[0;34m.\u001b[0m\u001b[0madd_subplot\u001b[0m\u001b[0;34m(\u001b[0m\u001b[0;36m1\u001b[0m\u001b[0;34m,\u001b[0m\u001b[0;36m1\u001b[0m\u001b[0;34m,\u001b[0m\u001b[0;36m1\u001b[0m\u001b[0;34m)\u001b[0m\u001b[0;34m\u001b[0m\u001b[0;34m\u001b[0m\u001b[0m\n\u001b[1;32m      4\u001b[0m \u001b[0marr\u001b[0m\u001b[0;34m=\u001b[0m\u001b[0mdf\u001b[0m\u001b[0;34m[\u001b[0m\u001b[0;34m[\u001b[0m\u001b[0;34m'time'\u001b[0m\u001b[0;34m,\u001b[0m\u001b[0;34m'open'\u001b[0m\u001b[0;34m,\u001b[0m\u001b[0;34m'close'\u001b[0m\u001b[0;34m,\u001b[0m\u001b[0;34m'high'\u001b[0m\u001b[0;34m,\u001b[0m\u001b[0;34m'low'\u001b[0m\u001b[0;34m]\u001b[0m\u001b[0;34m]\u001b[0m\u001b[0;34m.\u001b[0m\u001b[0mvalues\u001b[0m\u001b[0;34m\u001b[0m\u001b[0;34m\u001b[0m\u001b[0m\n\u001b[1;32m      5\u001b[0m \u001b[0mfin\u001b[0m\u001b[0;34m.\u001b[0m\u001b[0mcandlestick_ochl\u001b[0m\u001b[0;34m(\u001b[0m\u001b[0max\u001b[0m\u001b[0;34m,\u001b[0m\u001b[0marr\u001b[0m\u001b[0;34m)\u001b[0m\u001b[0;34m\u001b[0m\u001b[0;34m\u001b[0m\u001b[0m\n",
      "\u001b[0;31mNameError\u001b[0m: name 'fig' is not defined"
     ]
    }
   ],
   "source": [
    "#绘制k线图\n",
    "#fig.plt.figure()\n",
    "#ax=fig.add_subplot(1,1,1)\n",
    "#arr=df[['time','open','close','high','low']].values\n",
    "#fin.candlestick_ochl(ax,arr)\n",
    "#fig.grid()\n",
    "#fig.show()"
   ]
  },
  {
   "cell_type": "code",
   "execution_count": 7,
   "metadata": {},
   "outputs": [
    {
     "name": "stdout",
     "output_type": "stream",
     "text": [
      "[Getting data:]#########################################"
     ]
    },
    {
     "ename": "KeyboardInterrupt",
     "evalue": "",
     "output_type": "error",
     "traceback": [
      "\u001b[0;31m---------------------------------------------------------------------------\u001b[0m",
      "\u001b[0;31mKeyboardInterrupt\u001b[0m                         Traceback (most recent call last)",
      "\u001b[0;32m<ipython-input-7-ad313ecaa7e7>\u001b[0m in \u001b[0;36m<module>\u001b[0;34m\u001b[0m\n\u001b[1;32m      1\u001b[0m \u001b[0;31m#tushare package\u001b[0m\u001b[0;34m\u001b[0m\u001b[0;34m\u001b[0m\u001b[0;34m\u001b[0m\u001b[0m\n\u001b[1;32m      2\u001b[0m \u001b[0mdf\u001b[0m\u001b[0;34m=\u001b[0m\u001b[0mts\u001b[0m\u001b[0;34m.\u001b[0m\u001b[0mget_k_data\u001b[0m\u001b[0;34m(\u001b[0m\u001b[0;34m'601318'\u001b[0m\u001b[0;34m)\u001b[0m\u001b[0;34m\u001b[0m\u001b[0;34m\u001b[0m\u001b[0m\n\u001b[0;32m----> 3\u001b[0;31m \u001b[0mts\u001b[0m\u001b[0;34m.\u001b[0m\u001b[0mget_today_all\u001b[0m\u001b[0;34m(\u001b[0m\u001b[0;34m)\u001b[0m\u001b[0;34m\u001b[0m\u001b[0;34m\u001b[0m\u001b[0m\n\u001b[0m",
      "\u001b[0;32m~/anaconda3/lib/python3.7/site-packages/tushare/stock/trading.py\u001b[0m in \u001b[0;36mget_today_all\u001b[0;34m()\u001b[0m\n\u001b[1;32m    318\u001b[0m     \u001b[0;32mif\u001b[0m \u001b[0mdf\u001b[0m \u001b[0;32mis\u001b[0m \u001b[0;32mnot\u001b[0m \u001b[0;32mNone\u001b[0m\u001b[0;34m:\u001b[0m\u001b[0;34m\u001b[0m\u001b[0;34m\u001b[0m\u001b[0m\n\u001b[1;32m    319\u001b[0m         \u001b[0;32mfor\u001b[0m \u001b[0mi\u001b[0m \u001b[0;32min\u001b[0m \u001b[0mrange\u001b[0m\u001b[0;34m(\u001b[0m\u001b[0;36m2\u001b[0m\u001b[0;34m,\u001b[0m \u001b[0mct\u001b[0m\u001b[0;34m.\u001b[0m\u001b[0mPAGE_NUM\u001b[0m\u001b[0;34m[\u001b[0m\u001b[0;36m1\u001b[0m\u001b[0;34m]\u001b[0m\u001b[0;34m)\u001b[0m\u001b[0;34m:\u001b[0m\u001b[0;34m\u001b[0m\u001b[0;34m\u001b[0m\u001b[0m\n\u001b[0;32m--> 320\u001b[0;31m             \u001b[0mnewdf\u001b[0m \u001b[0;34m=\u001b[0m \u001b[0m_parsing_dayprice_json\u001b[0m\u001b[0;34m(\u001b[0m\u001b[0;34m'hs_a'\u001b[0m\u001b[0;34m,\u001b[0m \u001b[0mi\u001b[0m\u001b[0;34m)\u001b[0m\u001b[0;34m\u001b[0m\u001b[0;34m\u001b[0m\u001b[0m\n\u001b[0m\u001b[1;32m    321\u001b[0m             \u001b[0mdf\u001b[0m \u001b[0;34m=\u001b[0m \u001b[0mdf\u001b[0m\u001b[0;34m.\u001b[0m\u001b[0mappend\u001b[0m\u001b[0;34m(\u001b[0m\u001b[0mnewdf\u001b[0m\u001b[0;34m,\u001b[0m \u001b[0mignore_index\u001b[0m\u001b[0;34m=\u001b[0m\u001b[0;32mTrue\u001b[0m\u001b[0;34m)\u001b[0m\u001b[0;34m\u001b[0m\u001b[0;34m\u001b[0m\u001b[0m\n\u001b[1;32m    322\u001b[0m     df = df.append(_parsing_dayprice_json('shfxjs', 1),\n",
      "\u001b[0;32m~/anaconda3/lib/python3.7/site-packages/tushare/stock/trading.py\u001b[0m in \u001b[0;36m_parsing_dayprice_json\u001b[0;34m(types, page)\u001b[0m\n\u001b[1;32m    117\u001b[0m     request = Request(ct.SINA_DAY_PRICE_URL%(ct.P_TYPE['http'], ct.DOMAINS['vsf'],\n\u001b[1;32m    118\u001b[0m                                  ct.PAGES['jv'], types, page))\n\u001b[0;32m--> 119\u001b[0;31m     \u001b[0mtext\u001b[0m \u001b[0;34m=\u001b[0m \u001b[0murlopen\u001b[0m\u001b[0;34m(\u001b[0m\u001b[0mrequest\u001b[0m\u001b[0;34m,\u001b[0m \u001b[0mtimeout\u001b[0m\u001b[0;34m=\u001b[0m\u001b[0;36m10\u001b[0m\u001b[0;34m)\u001b[0m\u001b[0;34m.\u001b[0m\u001b[0mread\u001b[0m\u001b[0;34m(\u001b[0m\u001b[0;34m)\u001b[0m\u001b[0;34m\u001b[0m\u001b[0;34m\u001b[0m\u001b[0m\n\u001b[0m\u001b[1;32m    120\u001b[0m     \u001b[0;32mif\u001b[0m \u001b[0mtext\u001b[0m \u001b[0;34m==\u001b[0m \u001b[0;34m'null'\u001b[0m\u001b[0;34m:\u001b[0m\u001b[0;34m\u001b[0m\u001b[0;34m\u001b[0m\u001b[0m\n\u001b[1;32m    121\u001b[0m         \u001b[0;32mreturn\u001b[0m \u001b[0;32mNone\u001b[0m\u001b[0;34m\u001b[0m\u001b[0;34m\u001b[0m\u001b[0m\n",
      "\u001b[0;32m~/anaconda3/lib/python3.7/urllib/request.py\u001b[0m in \u001b[0;36murlopen\u001b[0;34m(url, data, timeout, cafile, capath, cadefault, context)\u001b[0m\n\u001b[1;32m    220\u001b[0m     \u001b[0;32melse\u001b[0m\u001b[0;34m:\u001b[0m\u001b[0;34m\u001b[0m\u001b[0;34m\u001b[0m\u001b[0m\n\u001b[1;32m    221\u001b[0m         \u001b[0mopener\u001b[0m \u001b[0;34m=\u001b[0m \u001b[0m_opener\u001b[0m\u001b[0;34m\u001b[0m\u001b[0;34m\u001b[0m\u001b[0m\n\u001b[0;32m--> 222\u001b[0;31m     \u001b[0;32mreturn\u001b[0m \u001b[0mopener\u001b[0m\u001b[0;34m.\u001b[0m\u001b[0mopen\u001b[0m\u001b[0;34m(\u001b[0m\u001b[0murl\u001b[0m\u001b[0;34m,\u001b[0m \u001b[0mdata\u001b[0m\u001b[0;34m,\u001b[0m \u001b[0mtimeout\u001b[0m\u001b[0;34m)\u001b[0m\u001b[0;34m\u001b[0m\u001b[0;34m\u001b[0m\u001b[0m\n\u001b[0m\u001b[1;32m    223\u001b[0m \u001b[0;34m\u001b[0m\u001b[0m\n\u001b[1;32m    224\u001b[0m \u001b[0;32mdef\u001b[0m \u001b[0minstall_opener\u001b[0m\u001b[0;34m(\u001b[0m\u001b[0mopener\u001b[0m\u001b[0;34m)\u001b[0m\u001b[0;34m:\u001b[0m\u001b[0;34m\u001b[0m\u001b[0;34m\u001b[0m\u001b[0m\n",
      "\u001b[0;32m~/anaconda3/lib/python3.7/urllib/request.py\u001b[0m in \u001b[0;36mopen\u001b[0;34m(self, fullurl, data, timeout)\u001b[0m\n\u001b[1;32m    523\u001b[0m             \u001b[0mreq\u001b[0m \u001b[0;34m=\u001b[0m \u001b[0mmeth\u001b[0m\u001b[0;34m(\u001b[0m\u001b[0mreq\u001b[0m\u001b[0;34m)\u001b[0m\u001b[0;34m\u001b[0m\u001b[0;34m\u001b[0m\u001b[0m\n\u001b[1;32m    524\u001b[0m \u001b[0;34m\u001b[0m\u001b[0m\n\u001b[0;32m--> 525\u001b[0;31m         \u001b[0mresponse\u001b[0m \u001b[0;34m=\u001b[0m \u001b[0mself\u001b[0m\u001b[0;34m.\u001b[0m\u001b[0m_open\u001b[0m\u001b[0;34m(\u001b[0m\u001b[0mreq\u001b[0m\u001b[0;34m,\u001b[0m \u001b[0mdata\u001b[0m\u001b[0;34m)\u001b[0m\u001b[0;34m\u001b[0m\u001b[0;34m\u001b[0m\u001b[0m\n\u001b[0m\u001b[1;32m    526\u001b[0m \u001b[0;34m\u001b[0m\u001b[0m\n\u001b[1;32m    527\u001b[0m         \u001b[0;31m# post-process response\u001b[0m\u001b[0;34m\u001b[0m\u001b[0;34m\u001b[0m\u001b[0;34m\u001b[0m\u001b[0m\n",
      "\u001b[0;32m~/anaconda3/lib/python3.7/urllib/request.py\u001b[0m in \u001b[0;36m_open\u001b[0;34m(self, req, data)\u001b[0m\n\u001b[1;32m    541\u001b[0m         \u001b[0mprotocol\u001b[0m \u001b[0;34m=\u001b[0m \u001b[0mreq\u001b[0m\u001b[0;34m.\u001b[0m\u001b[0mtype\u001b[0m\u001b[0;34m\u001b[0m\u001b[0;34m\u001b[0m\u001b[0m\n\u001b[1;32m    542\u001b[0m         result = self._call_chain(self.handle_open, protocol, protocol +\n\u001b[0;32m--> 543\u001b[0;31m                                   '_open', req)\n\u001b[0m\u001b[1;32m    544\u001b[0m         \u001b[0;32mif\u001b[0m \u001b[0mresult\u001b[0m\u001b[0;34m:\u001b[0m\u001b[0;34m\u001b[0m\u001b[0;34m\u001b[0m\u001b[0m\n\u001b[1;32m    545\u001b[0m             \u001b[0;32mreturn\u001b[0m \u001b[0mresult\u001b[0m\u001b[0;34m\u001b[0m\u001b[0;34m\u001b[0m\u001b[0m\n",
      "\u001b[0;32m~/anaconda3/lib/python3.7/urllib/request.py\u001b[0m in \u001b[0;36m_call_chain\u001b[0;34m(self, chain, kind, meth_name, *args)\u001b[0m\n\u001b[1;32m    501\u001b[0m         \u001b[0;32mfor\u001b[0m \u001b[0mhandler\u001b[0m \u001b[0;32min\u001b[0m \u001b[0mhandlers\u001b[0m\u001b[0;34m:\u001b[0m\u001b[0;34m\u001b[0m\u001b[0;34m\u001b[0m\u001b[0m\n\u001b[1;32m    502\u001b[0m             \u001b[0mfunc\u001b[0m \u001b[0;34m=\u001b[0m \u001b[0mgetattr\u001b[0m\u001b[0;34m(\u001b[0m\u001b[0mhandler\u001b[0m\u001b[0;34m,\u001b[0m \u001b[0mmeth_name\u001b[0m\u001b[0;34m)\u001b[0m\u001b[0;34m\u001b[0m\u001b[0;34m\u001b[0m\u001b[0m\n\u001b[0;32m--> 503\u001b[0;31m             \u001b[0mresult\u001b[0m \u001b[0;34m=\u001b[0m \u001b[0mfunc\u001b[0m\u001b[0;34m(\u001b[0m\u001b[0;34m*\u001b[0m\u001b[0margs\u001b[0m\u001b[0;34m)\u001b[0m\u001b[0;34m\u001b[0m\u001b[0;34m\u001b[0m\u001b[0m\n\u001b[0m\u001b[1;32m    504\u001b[0m             \u001b[0;32mif\u001b[0m \u001b[0mresult\u001b[0m \u001b[0;32mis\u001b[0m \u001b[0;32mnot\u001b[0m \u001b[0;32mNone\u001b[0m\u001b[0;34m:\u001b[0m\u001b[0;34m\u001b[0m\u001b[0;34m\u001b[0m\u001b[0m\n\u001b[1;32m    505\u001b[0m                 \u001b[0;32mreturn\u001b[0m \u001b[0mresult\u001b[0m\u001b[0;34m\u001b[0m\u001b[0;34m\u001b[0m\u001b[0m\n",
      "\u001b[0;32m~/anaconda3/lib/python3.7/urllib/request.py\u001b[0m in \u001b[0;36mhttp_open\u001b[0;34m(self, req)\u001b[0m\n\u001b[1;32m   1343\u001b[0m \u001b[0;34m\u001b[0m\u001b[0m\n\u001b[1;32m   1344\u001b[0m     \u001b[0;32mdef\u001b[0m \u001b[0mhttp_open\u001b[0m\u001b[0;34m(\u001b[0m\u001b[0mself\u001b[0m\u001b[0;34m,\u001b[0m \u001b[0mreq\u001b[0m\u001b[0;34m)\u001b[0m\u001b[0;34m:\u001b[0m\u001b[0;34m\u001b[0m\u001b[0;34m\u001b[0m\u001b[0m\n\u001b[0;32m-> 1345\u001b[0;31m         \u001b[0;32mreturn\u001b[0m \u001b[0mself\u001b[0m\u001b[0;34m.\u001b[0m\u001b[0mdo_open\u001b[0m\u001b[0;34m(\u001b[0m\u001b[0mhttp\u001b[0m\u001b[0;34m.\u001b[0m\u001b[0mclient\u001b[0m\u001b[0;34m.\u001b[0m\u001b[0mHTTPConnection\u001b[0m\u001b[0;34m,\u001b[0m \u001b[0mreq\u001b[0m\u001b[0;34m)\u001b[0m\u001b[0;34m\u001b[0m\u001b[0;34m\u001b[0m\u001b[0m\n\u001b[0m\u001b[1;32m   1346\u001b[0m \u001b[0;34m\u001b[0m\u001b[0m\n\u001b[1;32m   1347\u001b[0m     \u001b[0mhttp_request\u001b[0m \u001b[0;34m=\u001b[0m \u001b[0mAbstractHTTPHandler\u001b[0m\u001b[0;34m.\u001b[0m\u001b[0mdo_request_\u001b[0m\u001b[0;34m\u001b[0m\u001b[0;34m\u001b[0m\u001b[0m\n",
      "\u001b[0;32m~/anaconda3/lib/python3.7/urllib/request.py\u001b[0m in \u001b[0;36mdo_open\u001b[0;34m(self, http_class, req, **http_conn_args)\u001b[0m\n\u001b[1;32m   1318\u001b[0m             \u001b[0;32mexcept\u001b[0m \u001b[0mOSError\u001b[0m \u001b[0;32mas\u001b[0m \u001b[0merr\u001b[0m\u001b[0;34m:\u001b[0m \u001b[0;31m# timeout error\u001b[0m\u001b[0;34m\u001b[0m\u001b[0;34m\u001b[0m\u001b[0m\n\u001b[1;32m   1319\u001b[0m                 \u001b[0;32mraise\u001b[0m \u001b[0mURLError\u001b[0m\u001b[0;34m(\u001b[0m\u001b[0merr\u001b[0m\u001b[0;34m)\u001b[0m\u001b[0;34m\u001b[0m\u001b[0;34m\u001b[0m\u001b[0m\n\u001b[0;32m-> 1320\u001b[0;31m             \u001b[0mr\u001b[0m \u001b[0;34m=\u001b[0m \u001b[0mh\u001b[0m\u001b[0;34m.\u001b[0m\u001b[0mgetresponse\u001b[0m\u001b[0;34m(\u001b[0m\u001b[0;34m)\u001b[0m\u001b[0;34m\u001b[0m\u001b[0;34m\u001b[0m\u001b[0m\n\u001b[0m\u001b[1;32m   1321\u001b[0m         \u001b[0;32mexcept\u001b[0m\u001b[0;34m:\u001b[0m\u001b[0;34m\u001b[0m\u001b[0;34m\u001b[0m\u001b[0m\n\u001b[1;32m   1322\u001b[0m             \u001b[0mh\u001b[0m\u001b[0;34m.\u001b[0m\u001b[0mclose\u001b[0m\u001b[0;34m(\u001b[0m\u001b[0;34m)\u001b[0m\u001b[0;34m\u001b[0m\u001b[0;34m\u001b[0m\u001b[0m\n",
      "\u001b[0;32m~/anaconda3/lib/python3.7/http/client.py\u001b[0m in \u001b[0;36mgetresponse\u001b[0;34m(self)\u001b[0m\n\u001b[1;32m   1319\u001b[0m         \u001b[0;32mtry\u001b[0m\u001b[0;34m:\u001b[0m\u001b[0;34m\u001b[0m\u001b[0;34m\u001b[0m\u001b[0m\n\u001b[1;32m   1320\u001b[0m             \u001b[0;32mtry\u001b[0m\u001b[0;34m:\u001b[0m\u001b[0;34m\u001b[0m\u001b[0;34m\u001b[0m\u001b[0m\n\u001b[0;32m-> 1321\u001b[0;31m                 \u001b[0mresponse\u001b[0m\u001b[0;34m.\u001b[0m\u001b[0mbegin\u001b[0m\u001b[0;34m(\u001b[0m\u001b[0;34m)\u001b[0m\u001b[0;34m\u001b[0m\u001b[0;34m\u001b[0m\u001b[0m\n\u001b[0m\u001b[1;32m   1322\u001b[0m             \u001b[0;32mexcept\u001b[0m \u001b[0mConnectionError\u001b[0m\u001b[0;34m:\u001b[0m\u001b[0;34m\u001b[0m\u001b[0;34m\u001b[0m\u001b[0m\n\u001b[1;32m   1323\u001b[0m                 \u001b[0mself\u001b[0m\u001b[0;34m.\u001b[0m\u001b[0mclose\u001b[0m\u001b[0;34m(\u001b[0m\u001b[0;34m)\u001b[0m\u001b[0;34m\u001b[0m\u001b[0;34m\u001b[0m\u001b[0m\n",
      "\u001b[0;32m~/anaconda3/lib/python3.7/http/client.py\u001b[0m in \u001b[0;36mbegin\u001b[0;34m(self)\u001b[0m\n\u001b[1;32m    294\u001b[0m         \u001b[0;31m# read until we get a non-100 response\u001b[0m\u001b[0;34m\u001b[0m\u001b[0;34m\u001b[0m\u001b[0;34m\u001b[0m\u001b[0m\n\u001b[1;32m    295\u001b[0m         \u001b[0;32mwhile\u001b[0m \u001b[0;32mTrue\u001b[0m\u001b[0;34m:\u001b[0m\u001b[0;34m\u001b[0m\u001b[0;34m\u001b[0m\u001b[0m\n\u001b[0;32m--> 296\u001b[0;31m             \u001b[0mversion\u001b[0m\u001b[0;34m,\u001b[0m \u001b[0mstatus\u001b[0m\u001b[0;34m,\u001b[0m \u001b[0mreason\u001b[0m \u001b[0;34m=\u001b[0m \u001b[0mself\u001b[0m\u001b[0;34m.\u001b[0m\u001b[0m_read_status\u001b[0m\u001b[0;34m(\u001b[0m\u001b[0;34m)\u001b[0m\u001b[0;34m\u001b[0m\u001b[0;34m\u001b[0m\u001b[0m\n\u001b[0m\u001b[1;32m    297\u001b[0m             \u001b[0;32mif\u001b[0m \u001b[0mstatus\u001b[0m \u001b[0;34m!=\u001b[0m \u001b[0mCONTINUE\u001b[0m\u001b[0;34m:\u001b[0m\u001b[0;34m\u001b[0m\u001b[0;34m\u001b[0m\u001b[0m\n\u001b[1;32m    298\u001b[0m                 \u001b[0;32mbreak\u001b[0m\u001b[0;34m\u001b[0m\u001b[0;34m\u001b[0m\u001b[0m\n",
      "\u001b[0;32m~/anaconda3/lib/python3.7/http/client.py\u001b[0m in \u001b[0;36m_read_status\u001b[0;34m(self)\u001b[0m\n\u001b[1;32m    255\u001b[0m \u001b[0;34m\u001b[0m\u001b[0m\n\u001b[1;32m    256\u001b[0m     \u001b[0;32mdef\u001b[0m \u001b[0m_read_status\u001b[0m\u001b[0;34m(\u001b[0m\u001b[0mself\u001b[0m\u001b[0;34m)\u001b[0m\u001b[0;34m:\u001b[0m\u001b[0;34m\u001b[0m\u001b[0;34m\u001b[0m\u001b[0m\n\u001b[0;32m--> 257\u001b[0;31m         \u001b[0mline\u001b[0m \u001b[0;34m=\u001b[0m \u001b[0mstr\u001b[0m\u001b[0;34m(\u001b[0m\u001b[0mself\u001b[0m\u001b[0;34m.\u001b[0m\u001b[0mfp\u001b[0m\u001b[0;34m.\u001b[0m\u001b[0mreadline\u001b[0m\u001b[0;34m(\u001b[0m\u001b[0m_MAXLINE\u001b[0m \u001b[0;34m+\u001b[0m \u001b[0;36m1\u001b[0m\u001b[0;34m)\u001b[0m\u001b[0;34m,\u001b[0m \u001b[0;34m\"iso-8859-1\"\u001b[0m\u001b[0;34m)\u001b[0m\u001b[0;34m\u001b[0m\u001b[0;34m\u001b[0m\u001b[0m\n\u001b[0m\u001b[1;32m    258\u001b[0m         \u001b[0;32mif\u001b[0m \u001b[0mlen\u001b[0m\u001b[0;34m(\u001b[0m\u001b[0mline\u001b[0m\u001b[0;34m)\u001b[0m \u001b[0;34m>\u001b[0m \u001b[0m_MAXLINE\u001b[0m\u001b[0;34m:\u001b[0m\u001b[0;34m\u001b[0m\u001b[0;34m\u001b[0m\u001b[0m\n\u001b[1;32m    259\u001b[0m             \u001b[0;32mraise\u001b[0m \u001b[0mLineTooLong\u001b[0m\u001b[0;34m(\u001b[0m\u001b[0;34m\"status line\"\u001b[0m\u001b[0;34m)\u001b[0m\u001b[0;34m\u001b[0m\u001b[0;34m\u001b[0m\u001b[0m\n",
      "\u001b[0;32m~/anaconda3/lib/python3.7/socket.py\u001b[0m in \u001b[0;36mreadinto\u001b[0;34m(self, b)\u001b[0m\n\u001b[1;32m    587\u001b[0m         \u001b[0;32mwhile\u001b[0m \u001b[0;32mTrue\u001b[0m\u001b[0;34m:\u001b[0m\u001b[0;34m\u001b[0m\u001b[0;34m\u001b[0m\u001b[0m\n\u001b[1;32m    588\u001b[0m             \u001b[0;32mtry\u001b[0m\u001b[0;34m:\u001b[0m\u001b[0;34m\u001b[0m\u001b[0;34m\u001b[0m\u001b[0m\n\u001b[0;32m--> 589\u001b[0;31m                 \u001b[0;32mreturn\u001b[0m \u001b[0mself\u001b[0m\u001b[0;34m.\u001b[0m\u001b[0m_sock\u001b[0m\u001b[0;34m.\u001b[0m\u001b[0mrecv_into\u001b[0m\u001b[0;34m(\u001b[0m\u001b[0mb\u001b[0m\u001b[0;34m)\u001b[0m\u001b[0;34m\u001b[0m\u001b[0;34m\u001b[0m\u001b[0m\n\u001b[0m\u001b[1;32m    590\u001b[0m             \u001b[0;32mexcept\u001b[0m \u001b[0mtimeout\u001b[0m\u001b[0;34m:\u001b[0m\u001b[0;34m\u001b[0m\u001b[0;34m\u001b[0m\u001b[0m\n\u001b[1;32m    591\u001b[0m                 \u001b[0mself\u001b[0m\u001b[0;34m.\u001b[0m\u001b[0m_timeout_occurred\u001b[0m \u001b[0;34m=\u001b[0m \u001b[0;32mTrue\u001b[0m\u001b[0;34m\u001b[0m\u001b[0;34m\u001b[0m\u001b[0m\n",
      "\u001b[0;31mKeyboardInterrupt\u001b[0m: "
     ]
    }
   ],
   "source": [
    "#tushare package\n",
    "df=ts.get_k_data('601318')\n",
    "#ts.get_today_all()\n",
    "#get_index()"
   ]
  },
  {
   "cell_type": "code",
   "execution_count": 10,
   "metadata": {},
   "outputs": [],
   "source": [
    "#股票分析作业\n",
    "df=ts.get_k_data('600519',start='1988-01-01')\n",
    "df.to_csv('600519.csv')"
   ]
  },
  {
   "cell_type": "code",
   "execution_count": 15,
   "metadata": {},
   "outputs": [
    {
     "data": {
      "text/html": [
       "<div>\n",
       "<style scoped>\n",
       "    .dataframe tbody tr th:only-of-type {\n",
       "        vertical-align: middle;\n",
       "    }\n",
       "\n",
       "    .dataframe tbody tr th {\n",
       "        vertical-align: top;\n",
       "    }\n",
       "\n",
       "    .dataframe thead th {\n",
       "        text-align: right;\n",
       "    }\n",
       "</style>\n",
       "<table border=\"1\" class=\"dataframe\">\n",
       "  <thead>\n",
       "    <tr style=\"text-align: right;\">\n",
       "      <th></th>\n",
       "      <th>open</th>\n",
       "      <th>close</th>\n",
       "      <th>high</th>\n",
       "      <th>low</th>\n",
       "    </tr>\n",
       "    <tr>\n",
       "      <th>date</th>\n",
       "      <th></th>\n",
       "      <th></th>\n",
       "      <th></th>\n",
       "      <th></th>\n",
       "    </tr>\n",
       "  </thead>\n",
       "  <tbody>\n",
       "    <tr>\n",
       "      <th>2001-08-27</th>\n",
       "      <td>5.392</td>\n",
       "      <td>5.554</td>\n",
       "      <td>5.902</td>\n",
       "      <td>5.132</td>\n",
       "    </tr>\n",
       "    <tr>\n",
       "      <th>2001-08-28</th>\n",
       "      <td>5.467</td>\n",
       "      <td>5.759</td>\n",
       "      <td>5.781</td>\n",
       "      <td>5.407</td>\n",
       "    </tr>\n",
       "    <tr>\n",
       "      <th>2001-08-29</th>\n",
       "      <td>5.777</td>\n",
       "      <td>5.684</td>\n",
       "      <td>5.781</td>\n",
       "      <td>5.640</td>\n",
       "    </tr>\n",
       "    <tr>\n",
       "      <th>2001-08-30</th>\n",
       "      <td>5.668</td>\n",
       "      <td>5.796</td>\n",
       "      <td>5.860</td>\n",
       "      <td>5.624</td>\n",
       "    </tr>\n",
       "    <tr>\n",
       "      <th>2001-08-31</th>\n",
       "      <td>5.804</td>\n",
       "      <td>5.782</td>\n",
       "      <td>5.877</td>\n",
       "      <td>5.749</td>\n",
       "    </tr>\n",
       "    <tr>\n",
       "      <th>2001-09-03</th>\n",
       "      <td>5.812</td>\n",
       "      <td>5.779</td>\n",
       "      <td>5.870</td>\n",
       "      <td>5.757</td>\n",
       "    </tr>\n",
       "    <tr>\n",
       "      <th>2001-09-04</th>\n",
       "      <td>5.782</td>\n",
       "      <td>5.852</td>\n",
       "      <td>5.949</td>\n",
       "      <td>5.762</td>\n",
       "    </tr>\n",
       "    <tr>\n",
       "      <th>2001-09-05</th>\n",
       "      <td>5.876</td>\n",
       "      <td>5.849</td>\n",
       "      <td>5.924</td>\n",
       "      <td>5.813</td>\n",
       "    </tr>\n",
       "    <tr>\n",
       "      <th>2001-09-06</th>\n",
       "      <td>5.835</td>\n",
       "      <td>5.734</td>\n",
       "      <td>5.854</td>\n",
       "      <td>5.704</td>\n",
       "    </tr>\n",
       "    <tr>\n",
       "      <th>2001-09-07</th>\n",
       "      <td>5.702</td>\n",
       "      <td>5.574</td>\n",
       "      <td>5.773</td>\n",
       "      <td>5.570</td>\n",
       "    </tr>\n",
       "    <tr>\n",
       "      <th>2001-09-10</th>\n",
       "      <td>5.531</td>\n",
       "      <td>5.734</td>\n",
       "      <td>5.757</td>\n",
       "      <td>5.470</td>\n",
       "    </tr>\n",
       "    <tr>\n",
       "      <th>2001-09-11</th>\n",
       "      <td>5.749</td>\n",
       "      <td>5.670</td>\n",
       "      <td>5.773</td>\n",
       "      <td>5.656</td>\n",
       "    </tr>\n",
       "    <tr>\n",
       "      <th>2001-09-12</th>\n",
       "      <td>5.520</td>\n",
       "      <td>5.621</td>\n",
       "      <td>5.656</td>\n",
       "      <td>5.515</td>\n",
       "    </tr>\n",
       "    <tr>\n",
       "      <th>2001-09-13</th>\n",
       "      <td>5.626</td>\n",
       "      <td>5.607</td>\n",
       "      <td>5.671</td>\n",
       "      <td>5.577</td>\n",
       "    </tr>\n",
       "    <tr>\n",
       "      <th>2001-09-14</th>\n",
       "      <td>5.626</td>\n",
       "      <td>5.671</td>\n",
       "      <td>5.702</td>\n",
       "      <td>5.593</td>\n",
       "    </tr>\n",
       "    <tr>\n",
       "      <th>2001-09-17</th>\n",
       "      <td>5.637</td>\n",
       "      <td>5.599</td>\n",
       "      <td>5.670</td>\n",
       "      <td>5.546</td>\n",
       "    </tr>\n",
       "    <tr>\n",
       "      <th>2001-09-18</th>\n",
       "      <td>5.606</td>\n",
       "      <td>5.663</td>\n",
       "      <td>5.710</td>\n",
       "      <td>5.601</td>\n",
       "    </tr>\n",
       "    <tr>\n",
       "      <th>2001-09-19</th>\n",
       "      <td>5.671</td>\n",
       "      <td>5.768</td>\n",
       "      <td>5.768</td>\n",
       "      <td>5.634</td>\n",
       "    </tr>\n",
       "    <tr>\n",
       "      <th>2001-09-20</th>\n",
       "      <td>5.765</td>\n",
       "      <td>5.720</td>\n",
       "      <td>5.788</td>\n",
       "      <td>5.702</td>\n",
       "    </tr>\n",
       "    <tr>\n",
       "      <th>2001-09-21</th>\n",
       "      <td>5.668</td>\n",
       "      <td>5.634</td>\n",
       "      <td>5.718</td>\n",
       "      <td>5.624</td>\n",
       "    </tr>\n",
       "    <tr>\n",
       "      <th>2001-09-24</th>\n",
       "      <td>5.634</td>\n",
       "      <td>5.632</td>\n",
       "      <td>5.685</td>\n",
       "      <td>5.624</td>\n",
       "    </tr>\n",
       "    <tr>\n",
       "      <th>2001-09-25</th>\n",
       "      <td>5.668</td>\n",
       "      <td>5.660</td>\n",
       "      <td>5.709</td>\n",
       "      <td>5.632</td>\n",
       "    </tr>\n",
       "    <tr>\n",
       "      <th>2001-09-26</th>\n",
       "      <td>5.642</td>\n",
       "      <td>5.637</td>\n",
       "      <td>5.699</td>\n",
       "      <td>5.624</td>\n",
       "    </tr>\n",
       "    <tr>\n",
       "      <th>2001-09-27</th>\n",
       "      <td>5.637</td>\n",
       "      <td>5.734</td>\n",
       "      <td>5.777</td>\n",
       "      <td>5.624</td>\n",
       "    </tr>\n",
       "    <tr>\n",
       "      <th>2001-09-28</th>\n",
       "      <td>5.765</td>\n",
       "      <td>5.795</td>\n",
       "      <td>5.812</td>\n",
       "      <td>5.702</td>\n",
       "    </tr>\n",
       "    <tr>\n",
       "      <th>2001-10-08</th>\n",
       "      <td>5.781</td>\n",
       "      <td>5.715</td>\n",
       "      <td>5.809</td>\n",
       "      <td>5.663</td>\n",
       "    </tr>\n",
       "    <tr>\n",
       "      <th>2001-10-09</th>\n",
       "      <td>5.718</td>\n",
       "      <td>5.827</td>\n",
       "      <td>5.859</td>\n",
       "      <td>5.718</td>\n",
       "    </tr>\n",
       "    <tr>\n",
       "      <th>2001-10-10</th>\n",
       "      <td>5.827</td>\n",
       "      <td>5.640</td>\n",
       "      <td>5.848</td>\n",
       "      <td>5.629</td>\n",
       "    </tr>\n",
       "    <tr>\n",
       "      <th>2001-10-11</th>\n",
       "      <td>5.626</td>\n",
       "      <td>5.585</td>\n",
       "      <td>5.702</td>\n",
       "      <td>5.570</td>\n",
       "    </tr>\n",
       "    <tr>\n",
       "      <th>2001-10-12</th>\n",
       "      <td>5.609</td>\n",
       "      <td>5.624</td>\n",
       "      <td>5.726</td>\n",
       "      <td>5.320</td>\n",
       "    </tr>\n",
       "    <tr>\n",
       "      <th>...</th>\n",
       "      <td>...</td>\n",
       "      <td>...</td>\n",
       "      <td>...</td>\n",
       "      <td>...</td>\n",
       "    </tr>\n",
       "    <tr>\n",
       "      <th>2020-03-04</th>\n",
       "      <td>1125.000</td>\n",
       "      <td>1128.920</td>\n",
       "      <td>1139.000</td>\n",
       "      <td>1116.240</td>\n",
       "    </tr>\n",
       "    <tr>\n",
       "      <th>2020-03-05</th>\n",
       "      <td>1136.310</td>\n",
       "      <td>1171.000</td>\n",
       "      <td>1174.990</td>\n",
       "      <td>1130.560</td>\n",
       "    </tr>\n",
       "    <tr>\n",
       "      <th>2020-03-06</th>\n",
       "      <td>1163.000</td>\n",
       "      <td>1155.500</td>\n",
       "      <td>1176.000</td>\n",
       "      <td>1151.980</td>\n",
       "    </tr>\n",
       "    <tr>\n",
       "      <th>2020-03-09</th>\n",
       "      <td>1135.000</td>\n",
       "      <td>1114.010</td>\n",
       "      <td>1135.000</td>\n",
       "      <td>1111.310</td>\n",
       "    </tr>\n",
       "    <tr>\n",
       "      <th>2020-03-10</th>\n",
       "      <td>1113.000</td>\n",
       "      <td>1156.000</td>\n",
       "      <td>1168.000</td>\n",
       "      <td>1113.000</td>\n",
       "    </tr>\n",
       "    <tr>\n",
       "      <th>2020-03-11</th>\n",
       "      <td>1155.500</td>\n",
       "      <td>1158.520</td>\n",
       "      <td>1169.580</td>\n",
       "      <td>1141.000</td>\n",
       "    </tr>\n",
       "    <tr>\n",
       "      <th>2020-03-12</th>\n",
       "      <td>1141.220</td>\n",
       "      <td>1138.500</td>\n",
       "      <td>1153.000</td>\n",
       "      <td>1125.100</td>\n",
       "    </tr>\n",
       "    <tr>\n",
       "      <th>2020-03-13</th>\n",
       "      <td>1090.000</td>\n",
       "      <td>1112.030</td>\n",
       "      <td>1128.980</td>\n",
       "      <td>1080.000</td>\n",
       "    </tr>\n",
       "    <tr>\n",
       "      <th>2020-03-16</th>\n",
       "      <td>1103.980</td>\n",
       "      <td>1067.000</td>\n",
       "      <td>1107.950</td>\n",
       "      <td>1062.000</td>\n",
       "    </tr>\n",
       "    <tr>\n",
       "      <th>2020-03-17</th>\n",
       "      <td>1055.000</td>\n",
       "      <td>1045.100</td>\n",
       "      <td>1078.000</td>\n",
       "      <td>1011.120</td>\n",
       "    </tr>\n",
       "    <tr>\n",
       "      <th>2020-03-18</th>\n",
       "      <td>1040.000</td>\n",
       "      <td>1007.990</td>\n",
       "      <td>1060.000</td>\n",
       "      <td>1007.990</td>\n",
       "    </tr>\n",
       "    <tr>\n",
       "      <th>2020-03-19</th>\n",
       "      <td>993.990</td>\n",
       "      <td>996.000</td>\n",
       "      <td>1015.000</td>\n",
       "      <td>960.100</td>\n",
       "    </tr>\n",
       "    <tr>\n",
       "      <th>2020-03-20</th>\n",
       "      <td>1011.000</td>\n",
       "      <td>1035.280</td>\n",
       "      <td>1043.000</td>\n",
       "      <td>1011.000</td>\n",
       "    </tr>\n",
       "    <tr>\n",
       "      <th>2020-03-23</th>\n",
       "      <td>1000.000</td>\n",
       "      <td>1019.000</td>\n",
       "      <td>1035.280</td>\n",
       "      <td>991.520</td>\n",
       "    </tr>\n",
       "    <tr>\n",
       "      <th>2020-03-24</th>\n",
       "      <td>1043.000</td>\n",
       "      <td>1056.000</td>\n",
       "      <td>1058.880</td>\n",
       "      <td>1035.000</td>\n",
       "    </tr>\n",
       "    <tr>\n",
       "      <th>2020-03-25</th>\n",
       "      <td>1087.980</td>\n",
       "      <td>1080.100</td>\n",
       "      <td>1091.360</td>\n",
       "      <td>1074.200</td>\n",
       "    </tr>\n",
       "    <tr>\n",
       "      <th>2020-03-26</th>\n",
       "      <td>1073.330</td>\n",
       "      <td>1064.920</td>\n",
       "      <td>1091.200</td>\n",
       "      <td>1062.000</td>\n",
       "    </tr>\n",
       "    <tr>\n",
       "      <th>2020-03-27</th>\n",
       "      <td>1085.000</td>\n",
       "      <td>1075.500</td>\n",
       "      <td>1092.000</td>\n",
       "      <td>1075.010</td>\n",
       "    </tr>\n",
       "    <tr>\n",
       "      <th>2020-03-30</th>\n",
       "      <td>1060.250</td>\n",
       "      <td>1072.000</td>\n",
       "      <td>1077.000</td>\n",
       "      <td>1057.000</td>\n",
       "    </tr>\n",
       "    <tr>\n",
       "      <th>2020-03-31</th>\n",
       "      <td>1082.000</td>\n",
       "      <td>1111.000</td>\n",
       "      <td>1115.000</td>\n",
       "      <td>1081.800</td>\n",
       "    </tr>\n",
       "    <tr>\n",
       "      <th>2020-04-01</th>\n",
       "      <td>1117.000</td>\n",
       "      <td>1103.000</td>\n",
       "      <td>1129.000</td>\n",
       "      <td>1103.000</td>\n",
       "    </tr>\n",
       "    <tr>\n",
       "      <th>2020-04-02</th>\n",
       "      <td>1104.000</td>\n",
       "      <td>1145.000</td>\n",
       "      <td>1145.000</td>\n",
       "      <td>1103.880</td>\n",
       "    </tr>\n",
       "    <tr>\n",
       "      <th>2020-04-03</th>\n",
       "      <td>1139.030</td>\n",
       "      <td>1139.790</td>\n",
       "      <td>1147.960</td>\n",
       "      <td>1131.980</td>\n",
       "    </tr>\n",
       "    <tr>\n",
       "      <th>2020-04-07</th>\n",
       "      <td>1161.950</td>\n",
       "      <td>1159.950</td>\n",
       "      <td>1166.500</td>\n",
       "      <td>1148.890</td>\n",
       "    </tr>\n",
       "    <tr>\n",
       "      <th>2020-04-08</th>\n",
       "      <td>1152.000</td>\n",
       "      <td>1159.760</td>\n",
       "      <td>1166.310</td>\n",
       "      <td>1152.000</td>\n",
       "    </tr>\n",
       "    <tr>\n",
       "      <th>2020-04-09</th>\n",
       "      <td>1166.000</td>\n",
       "      <td>1158.500</td>\n",
       "      <td>1169.000</td>\n",
       "      <td>1147.960</td>\n",
       "    </tr>\n",
       "    <tr>\n",
       "      <th>2020-04-10</th>\n",
       "      <td>1157.880</td>\n",
       "      <td>1165.000</td>\n",
       "      <td>1181.500</td>\n",
       "      <td>1153.500</td>\n",
       "    </tr>\n",
       "    <tr>\n",
       "      <th>2020-04-13</th>\n",
       "      <td>1165.000</td>\n",
       "      <td>1162.300</td>\n",
       "      <td>1169.980</td>\n",
       "      <td>1148.500</td>\n",
       "    </tr>\n",
       "    <tr>\n",
       "      <th>2020-04-14</th>\n",
       "      <td>1176.000</td>\n",
       "      <td>1185.100</td>\n",
       "      <td>1191.550</td>\n",
       "      <td>1166.000</td>\n",
       "    </tr>\n",
       "    <tr>\n",
       "      <th>2020-04-15</th>\n",
       "      <td>1192.000</td>\n",
       "      <td>1189.600</td>\n",
       "      <td>1203.990</td>\n",
       "      <td>1187.100</td>\n",
       "    </tr>\n",
       "  </tbody>\n",
       "</table>\n",
       "<p>4446 rows × 4 columns</p>\n",
       "</div>"
      ],
      "text/plain": [
       "                open     close      high       low\n",
       "date                                              \n",
       "2001-08-27     5.392     5.554     5.902     5.132\n",
       "2001-08-28     5.467     5.759     5.781     5.407\n",
       "2001-08-29     5.777     5.684     5.781     5.640\n",
       "2001-08-30     5.668     5.796     5.860     5.624\n",
       "2001-08-31     5.804     5.782     5.877     5.749\n",
       "2001-09-03     5.812     5.779     5.870     5.757\n",
       "2001-09-04     5.782     5.852     5.949     5.762\n",
       "2001-09-05     5.876     5.849     5.924     5.813\n",
       "2001-09-06     5.835     5.734     5.854     5.704\n",
       "2001-09-07     5.702     5.574     5.773     5.570\n",
       "2001-09-10     5.531     5.734     5.757     5.470\n",
       "2001-09-11     5.749     5.670     5.773     5.656\n",
       "2001-09-12     5.520     5.621     5.656     5.515\n",
       "2001-09-13     5.626     5.607     5.671     5.577\n",
       "2001-09-14     5.626     5.671     5.702     5.593\n",
       "2001-09-17     5.637     5.599     5.670     5.546\n",
       "2001-09-18     5.606     5.663     5.710     5.601\n",
       "2001-09-19     5.671     5.768     5.768     5.634\n",
       "2001-09-20     5.765     5.720     5.788     5.702\n",
       "2001-09-21     5.668     5.634     5.718     5.624\n",
       "2001-09-24     5.634     5.632     5.685     5.624\n",
       "2001-09-25     5.668     5.660     5.709     5.632\n",
       "2001-09-26     5.642     5.637     5.699     5.624\n",
       "2001-09-27     5.637     5.734     5.777     5.624\n",
       "2001-09-28     5.765     5.795     5.812     5.702\n",
       "2001-10-08     5.781     5.715     5.809     5.663\n",
       "2001-10-09     5.718     5.827     5.859     5.718\n",
       "2001-10-10     5.827     5.640     5.848     5.629\n",
       "2001-10-11     5.626     5.585     5.702     5.570\n",
       "2001-10-12     5.609     5.624     5.726     5.320\n",
       "...              ...       ...       ...       ...\n",
       "2020-03-04  1125.000  1128.920  1139.000  1116.240\n",
       "2020-03-05  1136.310  1171.000  1174.990  1130.560\n",
       "2020-03-06  1163.000  1155.500  1176.000  1151.980\n",
       "2020-03-09  1135.000  1114.010  1135.000  1111.310\n",
       "2020-03-10  1113.000  1156.000  1168.000  1113.000\n",
       "2020-03-11  1155.500  1158.520  1169.580  1141.000\n",
       "2020-03-12  1141.220  1138.500  1153.000  1125.100\n",
       "2020-03-13  1090.000  1112.030  1128.980  1080.000\n",
       "2020-03-16  1103.980  1067.000  1107.950  1062.000\n",
       "2020-03-17  1055.000  1045.100  1078.000  1011.120\n",
       "2020-03-18  1040.000  1007.990  1060.000  1007.990\n",
       "2020-03-19   993.990   996.000  1015.000   960.100\n",
       "2020-03-20  1011.000  1035.280  1043.000  1011.000\n",
       "2020-03-23  1000.000  1019.000  1035.280   991.520\n",
       "2020-03-24  1043.000  1056.000  1058.880  1035.000\n",
       "2020-03-25  1087.980  1080.100  1091.360  1074.200\n",
       "2020-03-26  1073.330  1064.920  1091.200  1062.000\n",
       "2020-03-27  1085.000  1075.500  1092.000  1075.010\n",
       "2020-03-30  1060.250  1072.000  1077.000  1057.000\n",
       "2020-03-31  1082.000  1111.000  1115.000  1081.800\n",
       "2020-04-01  1117.000  1103.000  1129.000  1103.000\n",
       "2020-04-02  1104.000  1145.000  1145.000  1103.880\n",
       "2020-04-03  1139.030  1139.790  1147.960  1131.980\n",
       "2020-04-07  1161.950  1159.950  1166.500  1148.890\n",
       "2020-04-08  1152.000  1159.760  1166.310  1152.000\n",
       "2020-04-09  1166.000  1158.500  1169.000  1147.960\n",
       "2020-04-10  1157.880  1165.000  1181.500  1153.500\n",
       "2020-04-13  1165.000  1162.300  1169.980  1148.500\n",
       "2020-04-14  1176.000  1185.100  1191.550  1166.000\n",
       "2020-04-15  1192.000  1189.600  1203.990  1187.100\n",
       "\n",
       "[4446 rows x 4 columns]"
      ]
     },
     "execution_count": 15,
     "metadata": {},
     "output_type": "execute_result"
    }
   ],
   "source": [
    "df=pd.read_csv('600519.csv',index_col='date',parse_dates=['date'])[['open','close','high','low']]"
   ]
  },
  {
   "cell_type": "code",
   "execution_count": null,
   "metadata": {},
   "outputs": [],
   "source": [
    "#双均线分析作业1"
   ]
  },
  {
   "cell_type": "code",
   "execution_count": null,
   "metadata": {},
   "outputs": [],
   "source": [
    "#双均线分析作业2"
   ]
  },
  {
   "cell_type": "code",
   "execution_count": null,
   "metadata": {},
   "outputs": [],
   "source": [
    "#量化策略1"
   ]
  }
 ],
 "metadata": {
  "kernelspec": {
   "display_name": "Python 3",
   "language": "python",
   "name": "python3"
  },
  "language_info": {
   "codemirror_mode": {
    "name": "ipython",
    "version": 3
   },
   "file_extension": ".py",
   "mimetype": "text/x-python",
   "name": "python",
   "nbconvert_exporter": "python",
   "pygments_lexer": "ipython3",
   "version": "3.7.1"
  }
 },
 "nbformat": 4,
 "nbformat_minor": 2
}
