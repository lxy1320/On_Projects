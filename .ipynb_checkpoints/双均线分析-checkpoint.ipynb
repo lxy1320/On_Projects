{
 "cells": [
  {
   "cell_type": "code",
   "execution_count": null,
   "metadata": {},
   "outputs": [],
   "source": [
    "#双均线：对每一个交易日，计算前n天的移动平均值，然后把移动平均值连起来， 一般有5天，10天（日均线指标）， 30天， 60天（季均线指标），120天\n",
    "#（年均线指标）\n",
    "#金叉（交点）：短期均线上叉长期均线，买入信号\n",
    "#死叉：短期均线下穿长期均线，卖出信号"
   ]
  },
  {
   "cell_type": "code",
   "execution_count": 1,
   "metadata": {},
   "outputs": [],
   "source": [
    "import numpy as np\n",
    "import pandas as pd\n",
    "import matplotlib.pyplot as plt \n",
    "import tushare as ts"
   ]
  },
  {
   "cell_type": "code",
   "execution_count": 9,
   "metadata": {},
   "outputs": [],
   "source": [
    "df=ts.get_k_data('601318',start='2007-01-01')\n",
    "df.to_csv('601318.csv')\n",
    "df=pd.read_csv('601318.csv',index_col='date',parse_dates=['date'])[['open','close','low','high']]"
   ]
  },
  {
   "cell_type": "code",
   "execution_count": 55,
   "metadata": {},
   "outputs": [],
   "source": [
    "#五日均线和30日均线 2 methods\n",
    "df['ma5']=np.nan\n",
    "df['ma30']=np.nan\n",
    "#for i in range(4,len(df)):\n",
    "    #df.loc[df.index[i],'ma5']=df['close'][i-4:i+1].mean()\n",
    "\n",
    "#for i in range(29,len(df)):\n",
    "    #df.loc[df.index[i],'ma30']=df['close'][i-29:i+1].mean()\n",
    "    \n",
    "df['ma5']=df['open'].rolling(5).mean()\n",
    "df['ma30']=df['open'].rolling(30).mean()"
   ]
  },
  {
   "cell_type": "code",
   "execution_count": 56,
   "metadata": {},
   "outputs": [
    {
     "data": {
      "image/png": "[encoded data removed]",
      "text/plain": [
       "<Figure size 432x288 with 1 Axes>"
      ]
     },
     "metadata": {
      "needs_background": "light"
     },
     "output_type": "display_data"
    }
   ],
   "source": [
    "df[['close','ma5','ma30']].plot()\n",
    "plt.show()"
   ]
  },
  {
   "cell_type": "code",
   "execution_count": 57,
   "metadata": {},
   "outputs": [
    {
     "data": {
      "text/plain": [
       "DatetimeIndex(['2010-04-30', '2010-11-17', '2010-12-21', '2011-02-24',\n",
       "               '2011-03-18', '2011-05-05', '2011-07-25', '2011-11-22',\n",
       "               '2012-03-09', '2012-06-06', '2012-07-27', '2012-09-18',\n",
       "               '2012-10-30', '2013-02-26', '2013-04-25', '2013-05-15',\n",
       "               '2013-10-09', '2013-10-18', '2013-12-24', '2014-01-29',\n",
       "               '2014-05-21', '2014-06-27', '2014-08-27', '2014-09-15',\n",
       "               '2015-02-02', '2015-05-19', '2015-06-03', '2015-06-19',\n",
       "               '2015-12-02', '2015-12-10', '2016-01-06', '2016-05-09',\n",
       "               '2016-06-28', '2016-08-09', '2016-09-30', '2016-12-21',\n",
       "               '2017-03-03', '2017-04-14', '2017-08-11', '2017-09-21',\n",
       "               '2017-12-08', '2017-12-19', '2018-01-02', '2018-02-05',\n",
       "               '2018-02-08', '2018-03-29', '2018-06-25', '2018-08-08',\n",
       "               '2018-08-16', '2018-10-16', '2018-10-31', '2018-11-15',\n",
       "               '2018-11-21', '2019-05-10', '2019-08-05', '2019-09-27',\n",
       "               '2019-10-25', '2019-11-13', '2019-12-24', '2020-02-03'],\n",
       "              dtype='datetime64[ns]', name='date', freq=None)"
      ]
     },
     "execution_count": 57,
     "metadata": {},
     "output_type": "execute_result"
    }
   ],
   "source": [
    "#分析输出所有金叉日期和死叉日期 2 methods\n",
    "df=df.dropna()\n",
    "df=df['2010-01-01':]\n",
    "golden_cross=[]\n",
    "death_cross=[]\n",
    "#for i in range(1,len(df)):\n",
    "    #if df['ma5'][i]>=df['ma30'][i] and df['ma5'][i-1]<df['ma30'][i-1]:\n",
    "        #golden_cross.append(df.index[i])\n",
    "    #if df['ma5'][i]<=df['ma30'][i] and df['ma5'][i-1]>df['ma30'][i-1]:\n",
    "        #death_cross.append(df.index[i])\n",
    "\n",
    "#用布尔值来做 T-->T 死叉 F-->F 金叉\n",
    "sr1=df['ma5']<df['ma30']  \n",
    "sr2=df['ma5']>=df['ma30'] \n",
    "#shift sr2 to the right by one \n",
    "death_cross=df[sr1 & sr2.shift(1)].index\n",
    "goldne_cross=df[~(sr1 |sr2.shift(1))].index\n",
    "\n",
    "golden_cross\n",
    "death_cross"
   ]
  },
  {
   "cell_type": "code",
   "execution_count": 58,
   "metadata": {},
   "outputs": [
    {
     "name": "stdout",
     "output_type": "stream",
     "text": [
      "0.0\n"
     ]
    }
   ],
   "source": [
    "#从2010/1/1起，100000初始资金，金叉买入，死叉卖出，收益率如何\n",
    "first_money=100000\n",
    "money=first_money\n",
    "hold=0\n",
    "sr1=pd.Series(1,index=golden_cross)\n",
    "sr2=pd.Series(0,index=death_cross)\n",
    "sr=sr1.append(sr2).sort_index()\n",
    "for i in range(0,len(sr)):\n",
    "    price=df['open'][sr.index[i]]\n",
    "    if sr.iloc[i]==1:\n",
    "        buy=money//(100*price)\n",
    "        hold+=buy*100\n",
    "        money-=buy*100*price\n",
    "    else:\n",
    "        money+=hold*price\n",
    "        hold=0\n",
    "\n",
    "price=df['open'][-1]\n",
    "now_money=hold*price+money\n",
    "print(now_money-first_money)       "
   ]
  }
 ],
 "metadata": {
  "kernelspec": {
   "display_name": "Python 3",
   "language": "python",
   "name": "python3"
  },
  "language_info": {
   "codemirror_mode": {
    "name": "ipython",
    "version": 3
   },
   "file_extension": ".py",
   "mimetype": "text/x-python",
   "name": "python",
   "nbconvert_exporter": "python",
   "pygments_lexer": "ipython3",
   "version": "3.7.1"
  }
 },
 "nbformat": 4,
 "nbformat_minor": 2
}
